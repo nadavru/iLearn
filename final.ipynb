{
  "nbformat": 4,
  "nbformat_minor": 0,
  "metadata": {
    "colab": {
      "name": "Untitled9.ipynb",
      "provenance": [],
      "collapsed_sections": [],
      "toc_visible": true,
      "authorship_tag": "ABX9TyNy5tznjnZ9s4BXGrh/jLMJ",
      "include_colab_link": true
    },
    "kernelspec": {
      "name": "python3",
      "display_name": "Python 3"
    }
  },
  "cells": [
    {
      "cell_type": "markdown",
      "metadata": {
        "id": "view-in-github",
        "colab_type": "text"
      },
      "source": [
        "<a href=\"https://colab.research.google.com/github/nadavru/iLearn/blob/iLearnML/final.ipynb\" target=\"_parent\"><img src=\"https://colab.research.google.com/assets/colab-badge.svg\" alt=\"Open In Colab\"/></a>"
      ]
    },
    {
      "cell_type": "code",
      "metadata": {
        "id": "9jEvwvue8hcH"
      },
      "source": [
        "import numpy as np\r\n",
        "from abc import ABCMeta, abstractmethod\r\n",
        "from IPython.display import IFrame\r\n",
        "import math\r\n",
        "from math import exp, pi\r\n",
        "from numpy.linalg import inv"
      ],
      "execution_count": 95,
      "outputs": []
    },
    {
      "cell_type": "markdown",
      "metadata": {
        "id": "piQgU-S5YhYN"
      },
      "source": [
        "# optimizers"
      ]
    },
    {
      "cell_type": "code",
      "metadata": {
        "id": "e7pQRw01ZXMU"
      },
      "source": [
        "class opt:\r\n",
        "    def __init__(self, x, y, lr, momentum): \r\n",
        "      self.x=x\r\n",
        "      self.y=y\r\n",
        "      self.lr=lr\r\n",
        "      self.momentum=momentum\r\n",
        "\r\n",
        "    @abstractmethod\r\n",
        "    def step(self, d:list, d2):\r\n",
        "      pass"
      ],
      "execution_count": 96,
      "outputs": []
    },
    {
      "cell_type": "code",
      "metadata": {
        "id": "d4_doIcOYpy5"
      },
      "source": [
        "class SGD(opt):\r\n",
        "  def __init__(self, x, y, lr, momentum=0): \r\n",
        "      super().__init__(x, y, lr, momentum)\r\n",
        "  def step(self, d, d2=None):\r\n",
        "    self.x = self.x-self.lr*d[0]\r\n",
        "    self.y = self.y-self.lr*d[1]\r\n",
        "    return (self.x, self.y)\r\n",
        "    "
      ],
      "execution_count": 97,
      "outputs": []
    },
    {
      "cell_type": "code",
      "metadata": {
        "id": "QkdgkznVaxLf"
      },
      "source": [
        "class MomentumSGD(opt):\r\n",
        "  def __init__(self, x, y, lr, momentum=0.9): \r\n",
        "      super().__init__(x, y, lr, momentum)\r\n",
        "      self.dx, self.dy = 0, 0\r\n",
        "  def step(self, d, d2=None):\r\n",
        "    self.dx = self.momentum*self.dx - self.lr*d[0]\r\n",
        "    self.dy = self.momentum*self.dy - self.lr*d[1]\r\n",
        "    self.x = self.x + self.dx\r\n",
        "    self.y = self.y + self.dy\r\n",
        "    return (self.x, self.y)"
      ],
      "execution_count": 98,
      "outputs": []
    },
    {
      "cell_type": "code",
      "metadata": {
        "id": "B_Ptt6XKebJU"
      },
      "source": [
        "class Newton(opt):\r\n",
        "  def __init__(self, x, y, lr, momentum=0): \r\n",
        "      super().__init__(x, y, lr, momentum)\r\n",
        "  def step(self, d1, d2=None):\r\n",
        "    d1 = np.array(d1)\r\n",
        "    d2 = np.array(d2)\r\n",
        "    d2 = inv(d2)\r\n",
        "    d = -np.matmul(d2, d1)\r\n",
        "    self.x = self.x + self.lr*d[0]\r\n",
        "    self.y = self.y + self.lr*d[1]\r\n",
        "    return (self.x, self.y)"
      ],
      "execution_count": 99,
      "outputs": []
    },
    {
      "cell_type": "markdown",
      "metadata": {
        "id": "QkTMWxmmLX3R"
      },
      "source": [
        "# Learning"
      ]
    },
    {
      "cell_type": "code",
      "metadata": {
        "id": "wf-0wyziK7Bp"
      },
      "source": [
        "class Trainer:\r\n",
        "    def __init__(self, grid_x, grid_y, lr=0.5, epochs=50, opt=SGD, x=None, y=None): \r\n",
        "        self.lr=lr\r\n",
        "        self.x_cur = 2*grid_x*np.random.random_sample()-grid_x if x is None else x\r\n",
        "        self.y_cur = 2*grid_y*np.random.random_sample()-grid_y if y is None else y\r\n",
        "        self.epochs=epochs\r\n",
        "\r\n",
        "        x = np.linspace(-grid_x, grid_x, 1000)\r\n",
        "        y = np.linspace(-grid_y, grid_y, 1000)\r\n",
        "        self.X, self.Y = np.meshgrid(x, y)\r\n",
        "        self.opt = opt(self.x_cur, self.y_cur, self.lr)\r\n",
        "\r\n",
        "    def __call__(self): \r\n",
        "        return self.X, self.Y, np.where(True, self.calc(self.X, self.Y), 0)\r\n",
        "    \r\n",
        "    def train(self): \r\n",
        "        self.Xs = [self.x_cur]\r\n",
        "        self.Ys = [self.y_cur]\r\n",
        "        self.Zs = [self.calc(self.x_cur, self.y_cur)]\r\n",
        "\r\n",
        "        for _ in range(self.epochs):\r\n",
        "            d = self.derive(self.x_cur, self.y_cur)\r\n",
        "            d2 = self.derive2(self.x_cur, self.y_cur)\r\n",
        "            #print(d)\r\n",
        "            self.x_cur, self.y_cur = self.opt.step(d, d2)\r\n",
        "\r\n",
        "            self.Xs.append(self.x_cur)\r\n",
        "            self.Ys.append(self.y_cur)\r\n",
        "            self.Zs.append(self.calc(self.x_cur, self.y_cur))\r\n",
        "        return self.Xs, self.Ys, self.Zs\r\n",
        "\r\n",
        "    @abstractmethod\r\n",
        "    def display(self): \r\n",
        "      pass\r\n",
        "    \r\n",
        "    def derive2(self, x, y): \r\n",
        "      return None\r\n",
        "    \r\n",
        "    @abstractmethod\r\n",
        "    def calc(self, x, y): \r\n",
        "      pass\r\n",
        "\r\n",
        "    @abstractmethod\r\n",
        "    def derive(self, x, y): \r\n",
        "      pass"
      ],
      "execution_count": 100,
      "outputs": []
    },
    {
      "cell_type": "code",
      "metadata": {
        "id": "iMZNDVW7LfoU"
      },
      "source": [
        "class SVM(Trainer):\r\n",
        "\r\n",
        "  def __init__(self, group_size, p0, p1, grid_x=50, grid_y=50, lr=0.5, epochs=10, opt=SGD): \r\n",
        "        super().__init__(grid_x, grid_y, lr, epochs, opt)\r\n",
        "        (x0, y0, var0) = p0\r\n",
        "        (x1, y1, var1) = p1\r\n",
        "        self.group_size = group_size\r\n",
        "        group0 = np.array(list(zip(list(np.random.normal(x0, var0, group_size)), list(np.random.normal(y0, var0, group_size)),[-1]*group_size)))\r\n",
        "        group1 = np.array(list(zip(list(np.random.normal(x1, var1, group_size)), list(np.random.normal(y1, var0, group_size)),[1]*group_size)))\r\n",
        "\r\n",
        "        self.data = np.concatenate((group0, group1))\r\n",
        "\r\n",
        "        url = \"https://i-learn-ml.oa.r.appspot.com/viewer/viewerSVM.html#\"\r\n",
        "        #grid = 30\r\n",
        "        self.disp_url = url+f\"xmax={grid_x}&xmin=-{grid_x}&ymax={grid_y}&ymin=-{grid_y}&\"\r\n",
        "        \r\n",
        "        url2 = \"https://i-learn-ml.oa.r.appspot.com/viewer/viewerGD.html#\"\r\n",
        "        self.disp_url2 = url2+f\"xmax={grid_x}&xmin=-{grid_x}&ymax={grid_y}&ymin=-{grid_y}&\"\r\n",
        "\r\n",
        "        #self.X, self.Y = np.concatenate((self.group0[:,0],self.group1[:,0])), np.concatenate((self.group0[:,1],self.group1[:,1]))\r\n",
        "\r\n",
        "  def calc(self, x, y): \r\n",
        "    '''act0 = np.tanh(x*self.group0[:,0]+y*self.group0[:,1])+1\r\n",
        "    act1 = 1-np.tanh(x*self.group1[:,0]+y*self.group1[:,1])\r\n",
        "\r\n",
        "    loss = (np.sum(act0)+np.sum(act1))/(2*self.group_size)'''\r\n",
        "    pred = np.sign(np.tanh(x*self.data[:,0]+y*self.data[:,1]))\r\n",
        "    #print(pred, self.data[:,2])\r\n",
        "    acc = np.sum(np.equal(pred, self.data[:,2]))/(2*self.group_size)\r\n",
        "    #print(acc)\r\n",
        "    #loss = np.mean(1-np.tanh(self.data[:,2]*(x*self.data[:,0]+y*self.data[:,1])))\r\n",
        "    '''self.scores = (x*self.data[:,0]+y*self.data[:,1])\r\n",
        "    self.keep = np.exp(-self.data[:,2]*self.scores)/(1+np.exp(-self.data[:,2]*self.scores))\r\n",
        "    loss = np.mean(self.keep)'''\r\n",
        "    loss = np.mean(-self.data[:,2]*(x*self.data[:,0]+y*self.data[:,1]))\r\n",
        "    return loss\r\n",
        "  \r\n",
        "  def pred(self):\r\n",
        "    pred_y = np.sign(np.tanh(self.x_cur*self.data[:,0]+self.y_cur*self.data[:,1]))\r\n",
        "    acc = np.sum(np.equal(pred_y, self.data[:,2]))/(2*self.group_size)\r\n",
        "    return acc\r\n",
        "  \r\n",
        "  def derive(self, x, y): \r\n",
        "    '''der0 = 1/(2*self.group_size*np.cosh(x*self.group0[:,0]+y*self.group0[:,1])**2)\r\n",
        "    der1 = -1/(2*self.group_size*np.cosh(x*self.group1[:,0]+y*self.group1[:,1])**2)\r\n",
        "    dx = np.sum(self.group0[:,0]*der0) + np.sum(self.group1[:,0]*der1)\r\n",
        "    dy = np.sum(self.group0[:,1]*der0) + np.sum(self.group1[:,1]*der1)'''\r\n",
        "    \r\n",
        "    '''der = -1/np.cosh(self.data[:,2]*(x*self.data[:,0]+y*self.data[:,1]))**2\r\n",
        "    dx = np.mean(self.data[:,2]*self.data[:,0]*der)\r\n",
        "    dy = np.mean(self.data[:,2]*self.data[:,1]*der)'''\r\n",
        "    \r\n",
        "    '''der = -self.keep*(1-self.keep)\r\n",
        "    dx = np.mean(self.data[:,2]*self.data[:,0]*der)\r\n",
        "    dy = np.mean(self.data[:,2]*self.data[:,1]*der)'''\r\n",
        "\r\n",
        "    dx = np.mean(-self.data[:,2]*self.data[:,0])\r\n",
        "    dy = np.mean(-self.data[:,2]*self.data[:,1])\r\n",
        "\r\n",
        "    return [dx, dy]\r\n",
        "\r\n",
        "  def display(self): \r\n",
        "    points_str = \"\"\r\n",
        "    x = 30\r\n",
        "    for i in range(len(self.Xs)):\r\n",
        "      points_str+=(str)(-x)+\",\"+(str)(x*self.Xs[i]/self.Ys[i])+\",\"+(str)(0)+\"|\"+(str)(x)+\",\"+(str)(-x*self.Xs[i]/self.Ys[i])+\",\"+(str)(0)+\"|\"\r\n",
        "    points_str=points_str[:-1]\r\n",
        "\r\n",
        "    points_red = \"\"\r\n",
        "    for (x,y) in self.data[:self.group_size,:2]:\r\n",
        "      points_red += f\"{x},{y},0\"+\"|\"\r\n",
        "    points_red=points_red[:-1]\r\n",
        "    \r\n",
        "    points_blue = \"\"\r\n",
        "    for (x,y) in self.data[self.group_size:,:2]:\r\n",
        "      points_blue += f\"{x},{y},0\"+\"|\"\r\n",
        "    points_blue=points_blue[:-1]\r\n",
        "\r\n",
        "    src=self.disp_url+f\"points_red={points_red}&points_blue={points_blue}&vec={points_str}\"\r\n",
        "    return src\r\n",
        "  \r\n",
        "  def display2(self): \r\n",
        "    points_str = \"\"\r\n",
        "    for i in range(len(self.Xs)):\r\n",
        "      points_str+=(str)(self.Xs[i])+\",\"+(str)(self.Ys[i])+\",\"+(str)(self.Zs[i])+\"|\"\r\n",
        "    points_str=points_str[:-1]\r\n",
        "\r\n",
        "    x_sum = np.mean(-self.data[:,2]*self.data[:,0])\r\n",
        "    y_sum = np.mean(-self.data[:,2]*self.data[:,1])\r\n",
        "    \r\n",
        "    f_str = f\"{x_sum}*x+{y_sum}*y\".replace(\"+-\",\"-\")\r\n",
        "\r\n",
        "    src=self.disp_url2+f\"func={f_str}&points={points_str}\"\r\n",
        "    return src"
      ],
      "execution_count": 101,
      "outputs": []
    },
    {
      "cell_type": "code",
      "metadata": {
        "colab": {
          "base_uri": "https://localhost:8080/",
          "height": 655
        },
        "id": "YA45_xlJL9fl",
        "outputId": "85e717df-280d-423d-a427-644042a0be56"
      },
      "source": [
        "T = SVM(50, (-5,-5,5), (5,5,5), lr=0.5, epochs=30)\r\n",
        "print(f\"accuracy before training: {100*T.pred()}%\")\r\n",
        "Xs, Ys, Zs = T.train()\r\n",
        "print(f\"accuracy after training: {100*T.pred()}%\")\r\n",
        "\r\n",
        "src1 = T.display()\r\n",
        "\r\n",
        "IFrame(src=src1, width=700, height=600)"
      ],
      "execution_count": 102,
      "outputs": [
        {
          "output_type": "stream",
          "text": [
            "accuracy before training: 87.0%\n",
            "accuracy after training: 92.0%\n"
          ],
          "name": "stdout"
        },
        {
          "output_type": "execute_result",
          "data": {
            "text/html": [
              "\n",
              "        <iframe\n",
              "            width=\"700\"\n",
              "            height=\"600\"\n",
              "            src=\"https://i-learn-ml.oa.r.appspot.com/viewer/viewerSVM.html#xmax=50&xmin=-50&ymax=50&ymin=-50&points_red=-4.177679350756033,-3.803690103129103,0|3.394991076573369,-8.22179052747525,0|-7.134372779234722,-0.2910514800533912,0|-3.445478940099449,-3.6321832338548816,0|2.9844818907026163,-0.35107824974002266,0|-5.4675724031151365,-3.3710538418356015,0|-6.162147753487986,-10.625496159497043,0|-5.8284671997508175,-0.5620294004952271,0|2.5515353217251295,-2.2320506796147574,0|-7.190293098338168,-12.241716269896,0|-10.645752466366734,-8.320797141900826,0|-3.6777492095012523,-4.88119040883933,0|0.8635578121008223,-1.6833307187020807,0|-2.0335524614949656,7.298515533820888,0|-9.333653885630559,-9.670019415301716,0|-2.91516664458578,-0.8025387589041619,0|-1.1010069902477464,-15.01772867243191,0|-8.283670419030253,-2.6418648630764077,0|-13.093893539916047,-6.302835642487449,0|1.6995158924600497,-11.976564987824002,0|-6.9640744956354945,2.696999869822686,0|3.206198005226124,-8.486177682200093,0|-3.156566202561285,-16.28419731467985,0|-10.34455994288465,-9.631976311766387,0|2.4916250396271646,-6.096870688998015,0|-10.698096658862944,7.122513389003808,0|-7.47135002889899,-1.029519570163763,0|-6.235864269663528,-1.180872448222944,0|2.2776623306127286,-0.037761588026221204,0|-3.3791143506641905,-11.71480822399312,0|-11.890798653768712,-4.125517160901425,0|-6.334752035543436,8.818448895242657,0|-3.825970947755433,-3.9147468919274955,0|1.1896528140183698,-5.413397384518577,0|-5.716886285340691,-8.852807810441865,0|-1.8836416634884854,-10.20462946532553,0|1.5570836869251874,-2.1698445347331163,0|5.842670151907756,-5.714959880195453,0|-1.8060625552336358,-2.257366853893676,0|-17.353921448172276,-4.404386647916791,0|0.8053808990067202,1.8302377433989605,0|-5.847539000851275,-3.810866748211157,0|-2.9333288366435877,4.6398914677752465,0|-0.5941529248675543,-8.699413943300982,0|-20.96171100298963,-8.274697809457987,0|-4.454330907481449,-2.705764010669533,0|-9.42636969401833,-1.9921794171380731,0|-1.3577601848570637,9.463940199896312,0|7.375709320816686,-7.492835146281051,0|-1.9811015259445415,-3.2231449813921076,0&points_blue=13.565253916093166,-0.8014691051280423,0|9.483077900165997,4.212895534151293,0|9.642473081891357,-5.553081418548082,0|4.347067886100597,9.673813559108615,0|-2.1426418966893674,10.266547473257091,0|5.628419968479953,5.2687837804370705,0|8.57933579528798,5.9481818223517395,0|5.482543337336185,-0.490709292145441,0|5.8116145337196965,-1.510386675969201,0|8.783477720849092,-0.7481447172509998,0|4.820700270270879,16.804424616284543,0|4.080378756333038,5.4866652564041765,0|0.6254034030150208,-0.4864485606933755,0|-0.6444715607038471,9.109762054804811,0|7.171443002177791,11.070523176421176,0|11.818465682547876,13.377101092870236,0|10.120474544107058,1.6583469632508825,0|3.0604213949179897,14.872403236651845,0|3.6440682201929393,8.286553685620586,0|-0.09835779873836081,-3.5802400237272174,0|-2.277509299784592,9.33170899911975,0|2.8086542122296105,4.124051925615962,0|5.886868587293789,4.337116901276932,0|5.835318547599978,-4.262354162832732,0|6.901369353610378,-0.8358641622802097,0|4.946398443642348,8.523787633104867,0|-0.7611909317657073,3.835044491084104,0|5.623638271505367,-2.245949500788761,0|9.101148746940202,12.195295671520357,0|8.635107910560208,3.306381650789918,0|15.015892466202999,-2.613647765101125,0|4.962557575266169,2.278883388458463,0|-3.81148373865158,4.715499219847177,0|9.982050063385572,1.0762304955874265,0|1.2839711212375713,4.329795509947334,0|-0.7622103524717749,2.102145662264987,0|1.5500139437199318,-0.45315291580466877,0|3.948897386908914,-0.12185778391485336,0|6.803758581667886,10.499946312710723,0|4.076953677168818,5.931149191702841,0|-2.5648876594476295,11.019851973111304,0|7.261890914310559,9.32143129760308,0|6.7848475848075624,1.5054842378307782,0|7.9986415236244515,1.4206177051200468,0|3.516935556992312,6.646911563214175,0|4.294151275563914,8.32351005874009,0|7.191570467514017,2.831519577943665,0|4.601331910334747,-3.0234029733407723,0|11.024759363540788,7.052493445383403,0|6.319509503846796,4.137459718080713,0&vec=-30,16.506138099525682,0|30,-16.506138099525682,0|-30,17.193410391737004,0|30,-17.193410391737004,0|-30,17.82480109778715,0|30,-17.82480109778715,0|-30,18.406859493135652,0|30,-18.406859493135652,0|-30,18.945149905409462,0|30,-18.945149905409462,0|-30,19.44443016346119,0|30,-19.44443016346119,0|-30,19.90879260622524,0|30,-19.90879260622524,0|-30,20.341776506236208,0|30,-20.341776506236208,0|-30,20.746458447483818,0|30,-20.746458447483818,0|-30,21.125525541531342,0|30,-21.125525541531342,0|-30,21.481335167221207,0|30,-21.481335167221207,0|-30,21.815964041766627,0|30,-21.815964041766627,0|-30,22.131248781778538,0|30,-22.131248781778538,0|-30,22.42881962767488,0|30,-22.42881962767488,0|-30,22.710128639113147,0|30,-22.710128639113147,0|-30,22.976473390846778,0|30,-22.976473390846778,0|-30,23.229016985044552,0|30,-23.229016985044552,0|-30,23.46880503124524,0|30,-23.46880503124524,0|-30,23.69678011680174,0|30,-23.69678011680174,0|-30,23.913794190114107,0|30,-23.913794190114107,0|-30,24.120619199640835,0|30,-24.120619199640835,0|-30,24.317956268740463,0|30,-24.317956268740463,0|-30,24.506443636158995,0|30,-24.506443636158995,0|-30,24.686663551657933,0|30,-24.686663551657933,0|-30,24.859148283744673,0|30,-24.859148283744673,0|-30,25.024385370085366,0|30,-25.024385370085366,0|-30,25.18282221968469,0|30,-25.18282221968469,0|-30,25.33487015832172,0|30,-25.33487015832172,0|-30,25.480907994265653,0|30,-25.480907994265653,0|-30,25.621285169352973,0|30,-25.621285169352973,0|-30,25.75632455060872,0|30,-25.75632455060872,0\"\n",
              "            frameborder=\"0\"\n",
              "            allowfullscreen\n",
              "        ></iframe>\n",
              "        "
            ],
            "text/plain": [
              "<IPython.lib.display.IFrame at 0x7f2855c5eda0>"
            ]
          },
          "metadata": {
            "tags": []
          },
          "execution_count": 102
        }
      ]
    },
    {
      "cell_type": "code",
      "metadata": {
        "colab": {
          "base_uri": "https://localhost:8080/",
          "height": 620
        },
        "id": "OYEEw0fcMhTi",
        "outputId": "27a9379f-7bad-4c08-e5a6-87b0ba3c9f4b"
      },
      "source": [
        "src2 = T.display2()\r\n",
        "\r\n",
        "IFrame(src=src2, width=700, height=600)"
      ],
      "execution_count": 103,
      "outputs": [
        {
          "output_type": "execute_result",
          "data": {
            "text/html": [
              "\n",
              "        <iframe\n",
              "            width=\"700\"\n",
              "            height=\"600\"\n",
              "            src=\"https://i-learn-ml.oa.r.appspot.com/viewer/viewerGD.html#xmax=50&xmin=-50&ymax=50&ymin=-50&func=-4.588264496806887*x-4.206328157946005*y&points=26.14910512353144,47.52614748379487,-319.8895830613514|28.443237371934885,49.629311562767874,-339.26226689384544|30.737369620338328,51.732475641740876,-358.63495072633935|33.03150186874177,53.83563972071388,-378.0076345588334|35.32563411714521,55.93880379968688,-397.38031839132736|37.61976636554866,58.04196787865988,-416.7530022238214|39.9138986139521,60.145131957632884,-436.1256860563153|42.20803086235554,62.248296036605886,-455.4983698888094|44.502163110758985,64.35146011557889,-474.87105372130327|46.79629535916243,66.4546241945519,-494.2437375537974|49.09042760756587,68.5577882735249,-513.6164213862914|51.384559855969314,70.66095235249792,-532.9891052187854|53.67869210437276,72.76411643147092,-552.3617890512794|55.9728243527762,74.86728051044393,-571.7344728837734|58.26695660117964,76.97044458941694,-591.1071567162675|60.561088849583086,79.07360866838995,-610.4798405487614|62.85522109798653,81.17677274736296,-629.8525243812555|65.14935334638997,83.27993682633597,-649.2252082137496|67.44348559479342,85.38310090530898,-668.5978920462436|69.73761784319686,87.48626498428199,-687.9705758787376|72.0317500916003,89.589429063255,-707.3432597112317|74.32588234000374,91.692593142228,-726.7159435437258|76.62001458840719,93.79575722120101,-746.0886273762195|78.91414683681063,95.89892130017402,-765.4613112087136|81.20827908521407,98.00208537914703,-784.8339950412077|83.50241133361752,100.10524945812004,-804.2066788737018|85.79654358202096,102.20841353709305,-823.5793627061956|88.0906758304244,104.31157761606606,-842.9520465386895|90.38480807882785,106.41474169503907,-862.3247303711838|92.67894032723129,108.51790577401208,-881.6974142036779|94.97307257563473,110.62106985298509,-901.0700980361717\"\n",
              "            frameborder=\"0\"\n",
              "            allowfullscreen\n",
              "        ></iframe>\n",
              "        "
            ],
            "text/plain": [
              "<IPython.lib.display.IFrame at 0x7f284d29f908>"
            ]
          },
          "metadata": {
            "tags": []
          },
          "execution_count": 103
        }
      ]
    },
    {
      "cell_type": "markdown",
      "metadata": {
        "id": "MGHIDXOJMo7j"
      },
      "source": [
        "# test-functions"
      ]
    },
    {
      "cell_type": "code",
      "metadata": {
        "id": "IuVD2e12LIt7"
      },
      "source": [
        "e = exp(1)\r\n",
        "\r\n",
        "class Gaussian_helper: \r\n",
        "    def __init__(self, a, px, py, c=1): \r\n",
        "        self.a=a\r\n",
        "        self.px=px\r\n",
        "        self.py=py\r\n",
        "        self.c=c\r\n",
        "\r\n",
        "    def calc(self, x, y): \r\n",
        "        return -self.a*e**(-((x-self.px)**2+(y-self.py)**2)/(2*self.c**2))\r\n",
        "\r\n",
        "    def derive(self, x, y): \r\n",
        "        tmp = (self.a/self.c**2)*e**(-((x-self.px)**2+(y-self.py)**2)/(2*self.c**2))\r\n",
        "        return (tmp*(x-self.px), tmp*(y-self.py))\r\n",
        "\r\n",
        "class Gaussian(Trainer):\r\n",
        "\r\n",
        "    def __init__(self, apc:list, grid_x, grid_y, lr=0.5, epochs=50, opt=SGD, x=None, y=None): \r\n",
        "        super().__init__(grid_x, grid_y, lr, epochs, opt, x, y)\r\n",
        "        self.g_list = [Gaussian_helper(*i) for i in apc]\r\n",
        "\r\n",
        "        url = \"https://i-learn-ml.oa.r.appspot.com/viewer/viewerGD.html#\"\r\n",
        "        self.disp_url = url+f\"xmax={grid_x}&xmin=-{grid_x}&ymax={grid_y}&ymin=-{grid_y}&\"\r\n",
        "\r\n",
        "        self.f_str = \"\"\r\n",
        "        for a, px, py, c in apc:\r\n",
        "            s_x = \"-\"+(str)(px) if px>0 else \"+\"+(str)(-px)\r\n",
        "            s_y = \"-\"+(str)(py) if py>0 else \"+\"+(str)(-py)\r\n",
        "            self.f_str += f\"-{a}*e^(-((x{s_x})^2+(y{s_y})^2)/(2*{c}^2))\"\r\n",
        "        \r\n",
        "    def calc(self, x, y): \r\n",
        "        return sum([G.calc(x, y) for G in self.g_list])\r\n",
        "\r\n",
        "    def derive(self, x, y): \r\n",
        "        d_list = [G.derive(x, y) for G in self.g_list]\r\n",
        "        return [sum(i) for i in zip(*d_list)]\r\n",
        "    \r\n",
        "    def display(self): \r\n",
        "        points_str = \"\"\r\n",
        "        for i in range(len(self.Xs)):\r\n",
        "          points_str+=(str)(self.Xs[i])+\",\"+(str)(self.Ys[i])+\",\"+(str)(self.Zs[i])+\"|\"\r\n",
        "        points_str=points_str[:-1]\r\n",
        "\r\n",
        "        src=self.disp_url+f\"func={self.f_str}&points={points_str}\"\r\n",
        "        return src"
      ],
      "execution_count": 111,
      "outputs": []
    },
    {
      "cell_type": "code",
      "metadata": {
        "id": "oq4bdD1cMvwY"
      },
      "source": [
        "class Rosenbrock(Trainer):\r\n",
        "\r\n",
        "    def __init__(self, a=1, b=100, grid_x=3, grid_y=3, lr=0.0001, epochs=50, opt=SGD, x=None, y=None): \r\n",
        "        super().__init__(grid_x, grid_y, lr, epochs, opt, x, y)\r\n",
        "\r\n",
        "        url = \"https://i-learn-ml.oa.r.appspot.com/viewer/viewerGD.html#\"\r\n",
        "        self.disp_url = url+f\"xmax={grid_x}&xmin=-{grid_x}&ymax={grid_y}&ymin=-{grid_y}&\"\r\n",
        "\r\n",
        "        self.a, self.b = a, b\r\n",
        "        self.f_str = f\"({a}-x)^2+{b}*(y-x^2)^2\"\r\n",
        "        \r\n",
        "        \r\n",
        "    def calc(self, x, y): \r\n",
        "        return (self.a-x)**2+self.b*(y-x**2)**2\r\n",
        "\r\n",
        "    def derive(self, x, y): \r\n",
        "        dx = 2*x*(-2*self.b*(y-x**2)-1)\r\n",
        "        dy = 2*self.b*(y-x**2)\r\n",
        "        return [dx, dy]\r\n",
        "    \r\n",
        "    def derive2(self, x, y): \r\n",
        "        dxx = 12*self.b*x**2-4*self.b*y+2\r\n",
        "        dxy = -4*self.b*x\r\n",
        "        dyx = -4*self.b*x\r\n",
        "        dyy = 2*self.b\r\n",
        "        return [[dxx, dxy], [dyx, dyy]]\r\n",
        "    \r\n",
        "    def display(self): \r\n",
        "        points_str = \"\"\r\n",
        "        for i in range(len(self.Xs)):\r\n",
        "          points_str+=(str)(self.Xs[i])+\",\"+(str)(self.Ys[i])+\",\"+(str)(self.Zs[i])+\"|\"\r\n",
        "        points_str=points_str[:-1]\r\n",
        "\r\n",
        "        src=self.disp_url+f\"func={self.f_str}&points={points_str}\"\r\n",
        "        return src"
      ],
      "execution_count": 112,
      "outputs": []
    },
    {
      "cell_type": "code",
      "metadata": {
        "id": "s8ZAUp2rM3A-"
      },
      "source": [
        "class Rastrigin(Trainer):\r\n",
        "\r\n",
        "    def __init__(self, A=10, grid_x=6, grid_y=6, lr=0.0001, epochs=50, opt=SGD, x=None, y=None): \r\n",
        "        super().__init__(grid_x, grid_y, lr, epochs, opt, x, y)\r\n",
        "\r\n",
        "        url = \"https://i-learn-ml.oa.r.appspot.com/viewer/viewerGD.html#\"\r\n",
        "        self.disp_url = url+f\"xmax={grid_x}&xmin=-{grid_x}&ymax={grid_y}&ymin=-{grid_y}&\"\r\n",
        "\r\n",
        "        self.A = A\r\n",
        "        self.f_str = f\"{2*A}+x^2-{A}*cos({2*pi}*x)+y^2-{A}*cos({2*pi}*y)\"\r\n",
        "        \r\n",
        "        \r\n",
        "    def calc(self, x, y): \r\n",
        "        return 2*self.A+x**2-self.A*math.cos(2*pi*x)+y**2-self.A*math.cos(2*pi*y)\r\n",
        "\r\n",
        "    def derive(self, x, y): \r\n",
        "        dx = 2*(pi*self.A*math.sin(2*pi*x)+x)\r\n",
        "        dy = 2*(pi*self.A*math.sin(2*pi*y)+y)\r\n",
        "        return [dx, dy]\r\n",
        "    \r\n",
        "    def display(self): \r\n",
        "        points_str = \"\"\r\n",
        "        for i in range(len(self.Xs)):\r\n",
        "          points_str+=(str)(self.Xs[i])+\",\"+(str)(self.Ys[i])+\",\"+(str)(self.Zs[i])+\"|\"\r\n",
        "        points_str=points_str[:-1]\r\n",
        "\r\n",
        "        src=self.disp_url+f\"func={self.f_str}&points={points_str}\"\r\n",
        "        return src"
      ],
      "execution_count": 113,
      "outputs": []
    },
    {
      "cell_type": "code",
      "metadata": {
        "id": "8Vt7zO5ZM8OA"
      },
      "source": [
        "class Himmelblau(Trainer):\r\n",
        "\r\n",
        "    def __init__(self, grid_x=6, grid_y=6, lr=0.001, epochs=50, opt=SGD, x=None, y=None): \r\n",
        "        super().__init__(grid_x, grid_y, lr, epochs, opt, x, y)\r\n",
        "\r\n",
        "        url = \"https://i-learn-ml.oa.r.appspot.com/viewer/viewerGD.html#\"\r\n",
        "        self.disp_url = url+f\"xmax={grid_x}&xmin=-{grid_x}&ymax={grid_y}&ymin=-{grid_y}&\"\r\n",
        "\r\n",
        "        self.f_str = f\"(x^2+y-11)^2+(x+y^2-7)^2\"\r\n",
        "        \r\n",
        "        self.f_str_arr = []\r\n",
        "        \r\n",
        "        \r\n",
        "    def calc(self, x, y): \r\n",
        "        return (x**2+y-11)**2+(x+y**2-7)**2\r\n",
        "\r\n",
        "    def derive(self, x, y): \r\n",
        "        dx = 2*(2*x*(x**2+y-11)+x+y**2-7)\r\n",
        "        dy = 2*(2*y*(x+y**2-7)+x**2+y-11)\r\n",
        "\r\n",
        "        self.f_str_arr.append(self.display2())\r\n",
        "        return [dx, dy]\r\n",
        "    \r\n",
        "    def derive2(self, x, y): \r\n",
        "        dxx = 12*x**2+4*y-42\r\n",
        "        dxy = 4*(x+y)\r\n",
        "        dyx = 4*(x+y)\r\n",
        "        dyy = 12*y**2+4*x-26\r\n",
        "        return [[dxx, dxy], [dyx, dyy]]\r\n",
        "    \r\n",
        "    def display(self): \r\n",
        "        points_str = \"\"\r\n",
        "        for i in range(len(self.Xs)):\r\n",
        "          points_str+=(str)(self.Xs[i])+\",\"+(str)(self.Ys[i])+\",\"+(str)(self.Zs[i])+\"|\"\r\n",
        "        points_str=points_str[:-1]\r\n",
        "\r\n",
        "        src=self.disp_url+f\"func={self.f_str}&points={points_str}\"\r\n",
        "        return src\r\n",
        "    \r\n",
        "    def display2(self): \r\n",
        "\r\n",
        "        dx = \"2*(2*x*(x^2+y-11)+x+y^2-7)\"\r\n",
        "        dy = \"2*(2*y*(x+y^2-7)+x^2+y-11)\"\r\n",
        "        dxx = \"(12*x^2+4*y-42)\"\r\n",
        "        dxy = \"4*(x+y)\"\r\n",
        "        dyx = \"4*(x+y)\"\r\n",
        "        dyy = \"(12*y^2+4*x-26)\"\r\n",
        "        f_str = f\"(x^2+y-11)^2+(x+y^2-7)^2\"\r\n",
        "        \r\n",
        "        Hx = f\"((x-{self.x_cur})*{dxx}+(y-{self.y_cur})*{dyx})\"\r\n",
        "        Hy = f\"((x-{self.x_cur})*{dxy}+(y-{self.y_cur})*{dyy})\"\r\n",
        "\r\n",
        "        A = f\"0.5*(x-{self.x_cur})*{Hx}+(y-{self.y_cur})*{Hy}\"\r\n",
        "\r\n",
        "        B = f\"((x-{self.x_cur})*{dx}+(y-{self.y_cur})*{dy})\"\r\n",
        "\r\n",
        "        f_str2 = f\"{f_str}+{A}+{B}\"\r\n",
        "\r\n",
        "        src=self.disp_url+f\"func={f_str2}\"\r\n",
        "        return src"
      ],
      "execution_count": 114,
      "outputs": []
    },
    {
      "cell_type": "code",
      "metadata": {
        "id": "5cDyKk07JbP0"
      },
      "source": [
        "class Beale(Trainer):\r\n",
        "\r\n",
        "    def __init__(self, grid_x=4, grid_y=4, lr=0.0001, epochs=50, opt=SGD, x=None, y=None): \r\n",
        "        super().__init__(grid_x, grid_y, lr, epochs, opt, x, y)\r\n",
        "\r\n",
        "        url = \"https://i-learn-ml.oa.r.appspot.com/viewer/viewerGD.html#\"\r\n",
        "        self.disp_url = url+f\"xmax={grid_x}&xmin=-{grid_x}&ymax={grid_y}&ymin=-{grid_y}&\"\r\n",
        "\r\n",
        "        self.f_str = f\"(1.5-x+x*y)^2+(2.25-x+x*y^2)^2+(2.625-x+x*y^3)^2\"\r\n",
        "        \r\n",
        "        \r\n",
        "    def calc(self, x, y): \r\n",
        "        return (1.5-x+x*y)**2+(2.25-x+x*y**2)**2+(2.625-x+x*y**3)**2\r\n",
        "\r\n",
        "    def derive(self, x, y): \r\n",
        "        dx = 2 * x *(y**6 + y**4 - 2 * y**3 - y**2 - 2 * y + 3) + 5.25 * y**3 + 4.5 * y**2 + 3 * y - 12.75\r\n",
        "        dy = 6 * x * (x * (y**5 + 0.666667 * y**3 - y**2 - 0.333333 * y - 0.333333) + 2.625 * y**2 + 1.5 * y + 0.5)\r\n",
        "        return [dx, dy]\r\n",
        "    \r\n",
        "    def display(self): \r\n",
        "        points_str = \"\"\r\n",
        "        for i in range(len(self.Xs)):\r\n",
        "          points_str+=(str)(self.Xs[i])+\",\"+(str)(self.Ys[i])+\",\"+(str)(self.Zs[i])+\"|\"\r\n",
        "        points_str=points_str[:-1]\r\n",
        "\r\n",
        "        src=self.disp_url+f\"func={self.f_str}&points={points_str}\"\r\n",
        "        return src"
      ],
      "execution_count": 115,
      "outputs": []
    },
    {
      "cell_type": "code",
      "metadata": {
        "id": "kBHmx-XaVXhE"
      },
      "source": [
        "class Absfunc(Trainer):\r\n",
        "\r\n",
        "    def __init__(self, grid_x=10, grid_y=10, lr=0.0001, epochs=50, opt=SGD, x=None, y=None): \r\n",
        "        super().__init__(grid_x, grid_y, lr, epochs, opt, x, y)\r\n",
        "\r\n",
        "        url = \"https://i-learn-ml.oa.r.appspot.com/viewer/viewerGD.html#\"\r\n",
        "        self.disp_url = url+f\"xmax={grid_x}&xmin=-{grid_x}&ymax={grid_y}&ymin=-{grid_y}&\"\r\n",
        "\r\n",
        "        #self.f_str = \"x^4+y^4+50*sin(30*(x^2+y^2)*atan(y/x))\"\r\n",
        "        '''t = \"3*atan(y/x)\"\r\n",
        "        self.f_str = f\"x^2+y^2+20*abs({t}-floor({t})-0.5)\"'''\r\n",
        "        self.f_str = \"abs(x)+abs(y)\"\r\n",
        "        \r\n",
        "        \r\n",
        "    def calc(self, x, y): \r\n",
        "        #return x**4+y**4+50*math.sin(30*(x**2+y**2)*math.atan(y/x))\r\n",
        "        #return x**2+y**2+20*abs(3*math.atan(y/x)-math.floor(3*math.atan(y/x))-0.5)\r\n",
        "        return abs(x)+abs(y)\r\n",
        "\r\n",
        "    def derive(self, x, y): \r\n",
        "        #dx = (4 * (x**5 + x**3 * y**2 - 625 * y * math.cos(50 * math.atan(y/x))))/(x**2 + y**2)\r\n",
        "        #dx = 4 * (x**3 + 750 * x * math.atan(y/x) * math.cos(30 * (x**2 + y**2) * math.atan(y/x)) - 375 * y * math.cos(30 * (x**2 + y**2) * math.atan(y/x)))\r\n",
        "        #dy = 4 * ((625 * x * math.cos(50 * math.atan(y/x)))/(x**2 + y**2) + y**3)\r\n",
        "        #dy = 4 * (750 * y * math.atan(y/x) * math.cos(30 * (x**2 + y**2) * math.atan(y/x)) + 375 * x * math.cos(30 * (x**2 + y**2) * math.atan(y/x)) + y**3)\r\n",
        "        \r\n",
        "        '''if math.sin(3 * pi * math.atan(y/x))!=0 and 3 * math.atan(y/x) - math.floor(3 * math.atan(y/x))>0.5:\r\n",
        "          dx = 2 * x - (60 * y)/(x**2 + y**2)\r\n",
        "          dy = 2 * y + (60 * x)/(x**2 + y**2)\r\n",
        "        else:\r\n",
        "          dx = 2 * x +  (60 * y)/(x**2 + y**2)\r\n",
        "          dy = 2 * y - (60 * x)/(x**2 + y**2)'''\r\n",
        "        \r\n",
        "        dx = x/abs(x) if x!=0 else 0\r\n",
        "        dy = y/abs(y) if y!=0 else 0\r\n",
        "\r\n",
        "        return [dx, dy]\r\n",
        "    \r\n",
        "    def display(self): \r\n",
        "        points_str = \"\"\r\n",
        "        for i in range(len(self.Xs)):\r\n",
        "          points_str+=(str)(self.Xs[i])+\",\"+(str)(self.Ys[i])+\",\"+(str)(self.Zs[i])+\"|\"\r\n",
        "        points_str=points_str[:-1]\r\n",
        "\r\n",
        "        src=self.disp_url+f\"func={self.f_str}&points={points_str}\"\r\n",
        "        return src"
      ],
      "execution_count": 116,
      "outputs": []
    },
    {
      "cell_type": "code",
      "metadata": {
        "colab": {
          "base_uri": "https://localhost:8080/",
          "height": 620
        },
        "id": "MWL5LAMdLrtS",
        "outputId": "4ca972e1-ec8e-42ff-8722-76466e4b7f2a"
      },
      "source": [
        "sizes = []\r\n",
        "for ix in [-15,0,15]:\r\n",
        "  for iy in [-15,0,15]:\r\n",
        "    sizes.append((50,ix,iy,5))\r\n",
        "\r\n",
        "grid_x = 30\r\n",
        "grid_y = 30\r\n",
        "\r\n",
        "G = Gaussian(sizes, grid_x, grid_y)\r\n",
        "\r\n",
        "Xs, Ys, Zs = G.train()\r\n",
        "\r\n",
        "src = G.display()\r\n",
        "\r\n",
        "IFrame(src=src, width=700, height=600)"
      ],
      "execution_count": 117,
      "outputs": [
        {
          "output_type": "execute_result",
          "data": {
            "text/html": [
              "\n",
              "        <iframe\n",
              "            width=\"700\"\n",
              "            height=\"600\"\n",
              "            src=\"https://i-learn-ml.oa.r.appspot.com/viewer/viewerGD.html#xmax=30&xmin=-30&ymax=30&ymin=-30&func=-50*e^(-((x+15)^2+(y+15)^2)/(2*5^2))-50*e^(-((x+15)^2+(y+0)^2)/(2*5^2))-50*e^(-((x+15)^2+(y-15)^2)/(2*5^2))-50*e^(-((x+0)^2+(y+15)^2)/(2*5^2))-50*e^(-((x+0)^2+(y+0)^2)/(2*5^2))-50*e^(-((x+0)^2+(y-15)^2)/(2*5^2))-50*e^(-((x-15)^2+(y+15)^2)/(2*5^2))-50*e^(-((x-15)^2+(y+0)^2)/(2*5^2))-50*e^(-((x-15)^2+(y-15)^2)/(2*5^2))&points=-19.669684328422814,27.47087476292881,-1.44214265984425|-19.534705767118407,27.111176447811054,-1.7645199494184656|-19.374287408921283,26.68376409170834,-2.225414324815689|-19.179058314905852,26.163733078154,-2.9185068385225237|-18.93433433992595,25.51209245811524,-4.028642624729029|-18.616068177244156,24.66507870711514,-5.950830625047484|-18.183433640981036,23.514713681170907,-9.593077404620598|-17.567928937400765,21.88087434080506,-17.043434101814853|-16.680463501563604,19.534485070096846,-31.471698362342618|-15.58460993195505,16.673426640827486,-47.51447591033645|-14.918423539948924,15.025403536552112,-51.12927904797663|-14.824959223833753,14.833421096586683,-51.17857089555266|-14.816984050498103,14.817720835748084,-51.17890804363449|-14.816285382862056,14.816350097956525,-51.178910618632294|-14.81622398309562,14.816229671672327,-51.178910638510914|-14.816218585689757,14.816219085759933,-51.17891063866452|-14.816218111213812,14.816218155174136,-51.17891063866571|-14.816218069503421,14.816218073367901,-51.17891063866571|-14.816218065836729,14.81621806617645,-51.17891063866571|-14.816218065514397,14.81621806554426,-51.17891063866571|-14.816218065486062,14.816218065488686,-51.17891063866572|-14.81621806548357,14.8162180654838,-51.178910638665705|-14.816218065483351,14.81621806548337,-51.17891063866571|-14.816218065483332,14.816218065483334,-51.17891063866571|-14.81621806548333,14.81621806548333,-51.17891063866571|-14.81621806548333,14.81621806548333,-51.17891063866571|-14.81621806548333,14.81621806548333,-51.17891063866571|-14.81621806548333,14.81621806548333,-51.17891063866571|-14.81621806548333,14.81621806548333,-51.17891063866571|-14.81621806548333,14.81621806548333,-51.17891063866571|-14.81621806548333,14.81621806548333,-51.17891063866571|-14.81621806548333,14.81621806548333,-51.17891063866571|-14.81621806548333,14.81621806548333,-51.17891063866571|-14.81621806548333,14.81621806548333,-51.17891063866571|-14.81621806548333,14.81621806548333,-51.17891063866571|-14.81621806548333,14.81621806548333,-51.17891063866571|-14.81621806548333,14.81621806548333,-51.17891063866571|-14.81621806548333,14.81621806548333,-51.17891063866571|-14.81621806548333,14.81621806548333,-51.17891063866571|-14.81621806548333,14.81621806548333,-51.17891063866571|-14.81621806548333,14.81621806548333,-51.17891063866571|-14.81621806548333,14.81621806548333,-51.17891063866571|-14.81621806548333,14.81621806548333,-51.17891063866571|-14.81621806548333,14.81621806548333,-51.17891063866571|-14.81621806548333,14.81621806548333,-51.17891063866571|-14.81621806548333,14.81621806548333,-51.17891063866571|-14.81621806548333,14.81621806548333,-51.17891063866571|-14.81621806548333,14.81621806548333,-51.17891063866571|-14.81621806548333,14.81621806548333,-51.17891063866571|-14.81621806548333,14.81621806548333,-51.17891063866571|-14.81621806548333,14.81621806548333,-51.17891063866571\"\n",
              "            frameborder=\"0\"\n",
              "            allowfullscreen\n",
              "        ></iframe>\n",
              "        "
            ],
            "text/plain": [
              "<IPython.lib.display.IFrame at 0x7f284d2be7f0>"
            ]
          },
          "metadata": {
            "tags": []
          },
          "execution_count": 117
        }
      ]
    },
    {
      "cell_type": "code",
      "metadata": {
        "colab": {
          "base_uri": "https://localhost:8080/",
          "height": 620
        },
        "id": "82X-tkFXNOtz",
        "outputId": "9dbfb00d-6978-4f5d-9e4e-2fae3e92df06"
      },
      "source": [
        "Ro = Rosenbrock(lr=0.1**5, opt=SGD, grid_x=10, grid_y=10, epochs=100, x=5, y=-5)\r\n",
        "\r\n",
        "Xs, Ys, Zs = Ro.train()\r\n",
        "\r\n",
        "src = Ro.display()\r\n",
        "\r\n",
        "IFrame(src=src, width=700, height=600)"
      ],
      "execution_count": 120,
      "outputs": [
        {
          "output_type": "execute_result",
          "data": {
            "text/html": [
              "\n",
              "        <iframe\n",
              "            width=\"700\"\n",
              "            height=\"600\"\n",
              "            src=\"https://i-learn-ml.oa.r.appspot.com/viewer/viewerGD.html#xmax=10&xmin=-10&ymax=10&ymin=-10&func=(1-x)^2+100*(y-x^2)^2&points=5,-5,90016|4.4001,-4.94,59064.837606051784|3.972482793471996,-4.89139823998,42742.06758185825|3.644085303308185,-4.850054204411178,32874.54877904659|3.3798976911325718,-4.813795380606782,26371.316823736597|3.1604408829009634,-4.781320373040522,21819.09183587532|2.9737889490591063,-4.751780959145817,18486.84669493184|2.8121313828601635,-4.724590555800433,15961.727720788647|2.670088675427164,-4.699325208859898,13994.60059264178|2.543807378960391,-4.67566781137289,12427.10553865744|2.430438799691258,-4.653374563787637,11154.266437572714|2.3278217136754304,-4.632253749141973,10104.038648444755|2.234280454424269,-4.612151733782372,9225.514074519746|2.1484915842669707,-4.592943412016762,8481.812539598866|2.069393066158961,-4.574525493017396,7845.634665554549|1.9961207153358154,-4.556811666706828,7296.389185323195|1.9279626978199402,-4.5397290475530285,6818.284896359281|1.8643262848949393,-4.523215509129552,6399.0319839314925|1.8047131244927535,-4.507217653118193,6028.938775417537|1.7487005528295554,-4.491689238888524,5700.271287428462|1.695927268252349,-4.476589953163814,5406.791177087622|1.646082207145787,-4.4618844346590825,5143.417149189337|1.5988958050978863,-4.4475414925244,4905.973286942084|1.5541330587356517,-4.433533473948232,4690.999555053469|1.5115879635471288,-4.419835747871826,4495.607415256338|1.47107901494092,-4.406426280033001,4317.368609590716|1.4324455393320208,-4.393285280536536,4154.228626840436|1.3955446793431021,-4.3803949095291586,4004.438744760543|1.3602488990166093,-4.367739029806015,3866.502197626221|1.3264439057940967,-4.355302997611851,3739.131188907399|1.2940269090492413,-4.34307348474619,3621.2123056983223|1.2629051523214498,-4.331038326494011,3511.778496824252|1.2329946696073497,-4.319186390993503,3409.9862190815834|1.2042192262086269,-4.307507466500955,3315.096682863976|1.1765094124841098,-4.295992163678412,3226.460372031609|1.1498018649767734,-4.284631830555728,3143.504196079967|1.124038594197122,-4.273418478237208,3065.720771585458|1.0991664021503516,-4.262344715758244,2992.659436077652|1.0751363757252232,-4.251403692767496,2923.9186792340674|1.051903444490492,-4.240589048929145,2859.139739674887|1.0294259934011665,-4.229894869118225,2798.0011651044097|1.0076655225020843,-4.219315643628208,2740.214172400657|0.9865863470074236,-4.208846232730473,2685.518674955339|0.9661553321916377,-4.198481835024809,2633.679868962571|0.9463416583964985,-4.188217959102915,2584.485289846612|0.9271166121770222,-4.178050398115876,2537.742265673015|0.908453400204861,-4.1679752068944955,2493.2757070217826|0.890326983044133,-4.157988681320019,2450.926183046256|0.8727139263298545,-4.148087339683905,2410.5482417869075|0.8555922672277213,-4.1382679058101175,2372.008939636628|0.8389413943477143,-4.1285272937430175,2335.186550462934|0.8227419395323532,-4.118862593829231,2299.969429518479|0.806975680151123,-4.109271060043442,2266.2550111013916|0.79162545071191,-4.099750098426644,2233.9489221096287|0.7766750627533682,-4.090297256521361,2202.9641962877727|0.7621092321132062,-4.080910213702112,2173.2205761855444|0.7479135127799368,-4.071586772311363,2144.643891711891|0.7340742366325301,-4.062324849521543,2117.165505738656|0.7205784584560817,-4.053122469852725,2090.7218185343204|0.7074139056940056,-4.043977758283438,2065.2538239320666|0.6945689324600998,-4.034888933898932,2040.7067110912496|0.6820324773884655,-4.0258543040272565,2017.0295065248129|0.6697940249469039,-4.016872258818776,1994.1747517601032|0.6578435698810238,-4.007941266229429,1972.0982125956732|0.6461715844927396,-3.999059867372103,1950.758616427616|0.634768988488806,-3.990226672204147,1930.1174145587227|0.6236271211631487,-3.981440355522244,1910.1385667831264|0.6127377157015094,-3.972699653238699,1890.7883458670663|0.602092875418782,-3.9640033589157353,1872.0351598305906|0.5916850517587376,-3.9553503205366436,1853.8493901818388|0.5815070239029575,-3.946739437494621,1836.2032444702381|0.5715518798509793,-3.938169657781935,1819.0706217121967|0.5618129988471696,-3.929639975363649,1802.4269894064419|0.5522840350418492,-3.9211494277215744,1786.2492709992812|0.542958902284924,-3.912697093555407,1770.5157427856227|0.5338317599598457,-3.9042820906291555,1755.2059393418401|0.5248969997742889,-3.8959035737520136,1740.3005666836025|0.5161492334316089,-3.8875607328837654,1725.781422427344|0.5075832811140186,-3.8792527913556536,1711.6313223095372|0.49919416071461475,-3.8709790041984093,1697.834032484745|0.4909770777609378,-3.8627386565698294,1684.3742070825751|0.48292741597776556,-3.8545310622749165,1671.237330556132|0.4750407284413565,-3.846355562372161,1658.409664401203|0.4673127292814399,-3.8382115238600605,1645.8781978668744|0.45973928589094104,-3.8300983384384435,1633.630602315258|0.4523164116067678,-3.8220154213395836,1621.6551889209666|0.44504025882801523,-3.813962210224487,1609.9408694304561|0.4379071125406893,-3.8059381641400822,1598.4771197276991|0.4309133842205471,-3.7979427625333746,1587.253945976279|0.42405560608792114,-3.789975504318907,1576.2618531291632|0.41733042569045986,-3.78203590699616,1565.491815616434|0.41073460079159907,-3.774123505813754,1554.9352500383686|0.40426499454429743,-3.7662378529775515,1544.5839897066312|0.3979185709311366,-3.7583785168999686,1534.4302608902328|0.3916923904533194,-3.750545081487985,1524.4666606354247|0.385583606052412,-3.742737145467531,1514.6861360399905|0.37958945924987614,-3.734954321742083,1505.08196487264|0.37370727649053814,-3.7271962367834517,1495.647737437444|0.3679344656771516,-3.7194625300528807,1486.3773395916478|0.36226851288413753,-3.711752853450709,1477.2649368328034|0.35670697923943817,-3.704066870792953,1468.3049593780636\"\n",
              "            frameborder=\"0\"\n",
              "            allowfullscreen\n",
              "        ></iframe>\n",
              "        "
            ],
            "text/plain": [
              "<IPython.lib.display.IFrame at 0x7f284d2be198>"
            ]
          },
          "metadata": {
            "tags": []
          },
          "execution_count": 120
        }
      ]
    },
    {
      "cell_type": "code",
      "metadata": {
        "colab": {
          "base_uri": "https://localhost:8080/",
          "height": 620
        },
        "id": "l4K9bs90NZPZ",
        "outputId": "2497a061-8273-4532-999c-a825764751ce"
      },
      "source": [
        "Ra = Rastrigin()\r\n",
        "\r\n",
        "Xs, Ys, Zs = Ra.train()\r\n",
        "\r\n",
        "src = Ra.display()\r\n",
        "\r\n",
        "IFrame(src=src, width=700, height=600)"
      ],
      "execution_count": 122,
      "outputs": [
        {
          "output_type": "execute_result",
          "data": {
            "text/html": [
              "\n",
              "        <iframe\n",
              "            width=\"700\"\n",
              "            height=\"600\"\n",
              "            src=\"https://i-learn-ml.oa.r.appspot.com/viewer/viewerGD.html#xmax=6&xmin=-6&ymax=6&ymin=-6&func=20+x^2-10*cos(6.283185307179586*x)+y^2-10*cos(6.283185307179586*y)&points=-1.7572681696677215,-5.3893687430902615,59.35656272867872|-1.763193350693239,-5.384266645869062,58.74172376271899|-1.769102321321511,-5.379012974770513,58.113242034707234|-1.774986483869753,-5.373607713618409,57.47167140421473|-1.7808373988930166,-5.368051413322939,56.81759767182942|-1.7866468441595313,-5.362345242433433,56.15164079031261|-1.7924068700997,-5.356491036196422,55.474458509655626|-1.7981098508488653,-5.350491342973465,54.786751374875344|-1.8037485301361902,-5.344349466748899,54.08926888986273|-1.8093160614229182,-5.338069504355777,53.38281655432647|-1.814806041855919,-5.331656375978439,52.66826338077843|-1.820212539769619,-5.3251158474626425,51.94654941191483|-1.8255301156342463,-5.318454542988639,51.218692692960666|-1.8307538365045273,-5.3116799467479305,50.48579511526449|-1.8358792841652298,-5.304800392417086,49.74904654222413|-1.8409025572941597,-5.29782503944573,49.00972666028558|-1.8458202680664957,-5.290763835470091,48.26920406780146|-1.8506295337051517,-5.2836274645231365,47.52893222173775|-1.8553279635398352,-5.276427281127031,46.79044200238188|-1.8599136421733231,-5.269175230807691,46.055330822147766|-1.8643851093688057,-5.2618837580442674,45.32524838644149|-1.8687413372691812,-5.254565703134377,44.60187940043731|-1.8729817055405915,-5.247234189892631,43.88692369249352|-1.8771059750011754,-5.239902506479144,43.18207437978724|-1.8811142602549158,-5.232583981951929,42.488994822825816|-1.885007001802401,-5.225291861332473,41.8092951934999|-1.8887849380479234,-5.218039182053399,41.144509510415844|-1.892449077567908,-5.210838654614779,40.496073973594136|-1.896000671951149,-5.203702550113369,39.86530736066914|-1.8994411894683545,-5.1966425970368615,39.253394134845436|-1.9027722897782648,-5.189669889350634,38.66137077061264|-1.905995799831056,-5.182794807470276,38.09011563825575|-1.9091136910874256,-5.17602695323584,37.54034261506651|-1.9121280581340587,-5.169375099510933,37.01259842202358|-1.9150410987431787,-5.162847154547856,36.507263530245126|-1.917855095395568,-5.156450140812628,36.024556350124804|-1.9205723982625946,-5.150190187569789,35.56454031335764|-1.9231954096231356,-5.144072536199843,35.12713338677469|-1.9257265696754808,-5.138101556970079,34.71211951707102|-1.928168343691973,-5.132280775804449,34.31916149488363|-1.9305232104548715,-5.126612909497834,33.94781474134445|-1.9327936519053273,-5.121099907788029,33.59754155520797|-1.9349821439330506,-5.115743000726049,33.26772540851464|-1.9370911482318678,-5.1105427498611675,32.95768493813114|-1.9391231051455784,-5.105499101870048,32.66668734451182|-1.94108042742903,-5.100611443398305,32.39396097348392|-1.9429654948508766,-5.095878656037473,32.13870691846803|-1.9447806495668138,-5.0912991705217,31.90010953689737|-1.9465281921950366,-5.086871019389021,31.677345824143373|-1.9482103785290164,-5.082591887505955,31.46959363017082|-1.9498294168263566,-5.078459159997138,31.276038738232618\"\n",
              "            frameborder=\"0\"\n",
              "            allowfullscreen\n",
              "        ></iframe>\n",
              "        "
            ],
            "text/plain": [
              "<IPython.lib.display.IFrame at 0x7f284d2be518>"
            ]
          },
          "metadata": {
            "tags": []
          },
          "execution_count": 122
        }
      ]
    },
    {
      "cell_type": "code",
      "metadata": {
        "colab": {
          "base_uri": "https://localhost:8080/",
          "height": 620
        },
        "id": "gFjThc4VNopn",
        "outputId": "efd39f70-9070-4716-d143-b1b2df549381"
      },
      "source": [
        "Hi = Himmelblau(opt=Newton, lr=0.1, x=4, y=4)\r\n",
        "\r\n",
        "Xs, Ys, Zs = Hi.train()\r\n",
        "\r\n",
        "src = Hi.display()\r\n",
        "\r\n",
        "IFrame(src=src, width=700, height=600)"
      ],
      "execution_count": 124,
      "outputs": [
        {
          "output_type": "execute_result",
          "data": {
            "text/html": [
              "\n",
              "        <iframe\n",
              "            width=\"700\"\n",
              "            height=\"600\"\n",
              "            src=\"https://i-learn-ml.oa.r.appspot.com/viewer/viewerGD.html#xmax=6&xmin=-6&ymax=6&ymin=-6&func=(x^2+y-11)^2+(x+y^2-7)^2&points=4,4,250|3.918774838974921,3.8901055228175965,213.2547607428927|3.8424231927155112,3.784906548354643,181.71215222597317|3.770800811269527,3.6842559308918283,154.66365801449575|3.7037613309260236,3.5880101863730216,131.49385597500768|3.6411556638685036,3.4960293900520862,111.6684765571918|3.582831479501685,3.4081771004855694,94.72398613799264|3.528632803873836,3.3243203070378398,80.25849945611587|3.478399762588006,3.24432939642325,67.92385000511803|3.4319684896327884,3.168078132211827,57.418669041699125|3.389171219546823,3.0954436398408376,48.48234300364448|3.3498365733505278,3.0263063886854455,40.889735959485535|3.3137900400644837,2.9605501623164265,34.4465785141767|3.2808546459569263,2.898062008341848,28.98543760734927|3.2508517936890184,2.8387321602601463,24.362193056464186|3.223602244134039,2.7824539255308216,20.452956676584115|3.198927205712017,2.7291235364957616,17.15137848766705|3.1766494903575473,2.67863996367852,14.366292020499863|3.156594692246225,2.6309046941098897,12.01965716780488|3.1385923453608764,2.5858214804035335,10.044764510252358|3.1224770187732953,2.543296069064506,8.384669691761555|3.1080893137473464,2.503235918717903,6.990830339125435|3.0952767338132516,2.465549920412901,5.821921330563911|3.0838944070819503,2.430148132778501,4.8428070237223695|3.0738056485128524,2.396941544546554,4.023651453689148|3.0648823579486266,2.3658418758520483,3.3391495905736956|3.057005256960982,2.3367614278693836,2.7678645737194048|3.050063973560179,2.3096129878947695,2.291657469772733|3.0439569884312836,2.2843097941222528,1.8951975740107896|3.038591459547175,2.2607655612878568,1.5655426153926857|3.0338829438635617,2.238894565282523,1.2917794526991526|3.029755035493052,2.2186117819611537,1.0647169717537452|3.0261389394916383,2.199833072881117,0.8766239175237575|3.022972999390376,2.1824754087332696,0.7210053230562952|3.020202195075519,2.1664571198810405,0.5924120322386065|3.017777625747378,2.1516981627460563,0.48627855821384364|3.0156559906284293,2.138120390766594,0.3987851778425032|3.0137990779721067,2.1256478192526647,0.32674073993213215|3.0121732708445985,2.114206874572515,0.2674831671641966|3.010749076187346,2.1037266196046818,0.21879506559558193|3.0095006818705077,2.094138949137723,0.17883222858604292|3.0084055448517053,2.0853787507562447,0.14606314134415027|3.007444012178422,2.0773840285886718,0.11921786507853253|3.0065989754221247,2.070095989002551,0.09724491258010426|3.0058555582025366,2.0634590888370807,0.07927492588314834|3.005200835738413,2.0574210480088277,0.06459013666721923|3.004623584827702,2.051932829291384,0.05259873573484473|3.0041140622922846,2.0469485887527687,0.0428134029966864|3.0036638096960155,2.0424256007539623,0.034833357048875614|3.0032654820345446,2.0383241615991112,0.028329376225220203|3.0029126980775747,2.034607475921204,0.023031323084489345\"\n",
              "            frameborder=\"0\"\n",
              "            allowfullscreen\n",
              "        ></iframe>\n",
              "        "
            ],
            "text/plain": [
              "<IPython.lib.display.IFrame at 0x7f284d2be278>"
            ]
          },
          "metadata": {
            "tags": []
          },
          "execution_count": 124
        }
      ]
    },
    {
      "cell_type": "code",
      "metadata": {
        "colab": {
          "base_uri": "https://localhost:8080/",
          "height": 620
        },
        "id": "1BfEl7wYLgkh",
        "outputId": "eb9c5e49-ee73-4818-a373-5a0be6dba67f"
      },
      "source": [
        "Be = Beale(opt=MomentumSGD, lr=0.000001, x=4, y=4)\r\n",
        "\r\n",
        "Xs, Ys, Zs = Be.train()\r\n",
        "\r\n",
        "src = Be.display()\r\n",
        "\r\n",
        "IFrame(src=src, width=700, height=600)"
      ],
      "execution_count": 125,
      "outputs": [
        {
          "output_type": "execute_result",
          "data": {
            "text/html": [
              "\n",
              "        <iframe\n",
              "            width=\"700\"\n",
              "            height=\"600\"\n",
              "            src=\"https://i-learn-ml.oa.r.appspot.com/viewer/viewerGD.html#xmax=4&xmin=-4&ymax=4&ymin=-4&func=(1.5-x+x*y)^2+(2.25-x+x*y^2)^2+(2.625-x+x*y^3)^2&points=4,4,68891.203125|3.96596875,3.898131997792,58155.6757831691|3.9063987393327877,3.7182680217074067,42701.66837830133|3.8312610859727134,3.4885953086823456,28219.783482028106|3.7491886660767393,3.234226482054738,17324.10841215418|3.666311175839,2.973810125351264,10134.929872321645|3.586374540242332,2.719464107326166,5757.872320146965|3.511362792604096,2.4781897663430805,3219.042621356777|3.44212903305291,2.253489118759167,1787.0200342898563|3.37886552130925,2.0466675795996676,991.0253818773592|3.321407414349711,1.85773792431625,551.1917948102588|3.269413781466128,1.685999173898653,308.20997432177484|3.2224699197939013,1.5303895900617703,173.49284480527677|3.1801427806381963,1.3896945933848663,98.34202659102246|3.1420096401474162,1.2626654880559376,56.09452956616391|3.1076719295684874,1.1480847695788619,32.140089880349905|3.0767610168457757,1.0448000011808136,18.439994534050463|3.0489397255997313,0.9517394653830625,10.542815841737053|3.0239016718595972,0.867917420580751,5.963500243279578|3.001369549046471,0.7924335678732879,3.301627192057582|2.981092968393041,0.7244694208515557,1.7597491476536682|2.962846175532986,0.6632831429896885,0.8786732347392583|2.946425807909094,0.6082037535597746,0.3908753909273559|2.9316487730125664,0.5586252128499346,0.13862480257845006|2.9183502819133706,0.5140006683398645,0.027812457695020602|2.9063820483535383,0.4738370091908281,0.0016429973132220418|2.8956106511560296,0.4376897980609181,0.02547831310663647|2.8859160515409403,0.4051586039916831,0.07800394039447027|2.8771902542253773,0.3758827344408196,0.1460180868238226|2.869336100312854,0.34953735047534906,0.22131925276627634|2.8622661800726035,0.3258299419490021,0.2988236199024751|2.855901854285585,0.3044971363393888,0.37541169613419656|2.8501723736280793,0.2853018141238657,0.44921271682861424|2.8450140864327937,0.26803050411389806,0.5191551036492268|2.840369726035872,0.25249103343783286,0.5846806673636236|2.836187769747749,0.23851040849710403,0.6455608608668096|2.8324218622587973,0.22593290500428692,0.7017774323577711|2.829030297000573,0.214618347015896,0.7534442216480576|2.8259755496297676,0.20444055662560767,0.8007555575072717|2.823223858387243,0.1952859576450286,0.8439520520073736|2.8207448466128153,0.18705231814966652,0.883297895631962|2.8185111831723826,0.17964761819995406,0.9190658306165326|2.8164982769822444,0.17298903036078098,0.951527295211732|2.814684002200524,0.16700200184191957,0.9809460754600366|2.8130484510017477,0.16161942817216904,1.0075743488354865|2.81157371116171,0.1567809093093106,1.0316503637277854|2.810243665959317,0.15243207998378056,1.053397237551605|2.809043814153333,0.1485240068840474,1.07302251659618|2.8079611080177647,0.1450126460234702,1.0907182495506422|2.806983807622567,0.14185835428897062,1.1066614012701537|2.8061013497288045,0.13902544976774747,1.121014485037006\"\n",
              "            frameborder=\"0\"\n",
              "            allowfullscreen\n",
              "        ></iframe>\n",
              "        "
            ],
            "text/plain": [
              "<IPython.lib.display.IFrame at 0x7f284d2d06a0>"
            ]
          },
          "metadata": {
            "tags": []
          },
          "execution_count": 125
        }
      ]
    },
    {
      "cell_type": "code",
      "metadata": {
        "colab": {
          "base_uri": "https://localhost:8080/",
          "height": 620
        },
        "id": "axbSouafWczF",
        "outputId": "1e085ca9-eaca-4ea4-833b-e4b5752c0fb7"
      },
      "source": [
        "Abs = Absfunc(opt=SGD, lr=1, x=10, y=0.5)\r\n",
        "\r\n",
        "Xs, Ys, Zs = Abs.train()\r\n",
        "\r\n",
        "src = Abs.display()\r\n",
        "\r\n",
        "IFrame(src=src, width=700, height=600)"
      ],
      "execution_count": 127,
      "outputs": [
        {
          "output_type": "execute_result",
          "data": {
            "text/html": [
              "\n",
              "        <iframe\n",
              "            width=\"700\"\n",
              "            height=\"600\"\n",
              "            src=\"https://i-learn-ml.oa.r.appspot.com/viewer/viewerGD.html#xmax=10&xmin=-10&ymax=10&ymin=-10&func=abs(x)+abs(y)&points=10,0.5,10.5|9.0,-0.5,9.5|8.0,0.5,8.5|7.0,-0.5,7.5|6.0,0.5,6.5|5.0,-0.5,5.5|4.0,0.5,4.5|3.0,-0.5,3.5|2.0,0.5,2.5|1.0,-0.5,1.5|0.0,0.5,0.5|0.0,-0.5,0.5|0.0,0.5,0.5|0.0,-0.5,0.5|0.0,0.5,0.5|0.0,-0.5,0.5|0.0,0.5,0.5|0.0,-0.5,0.5|0.0,0.5,0.5|0.0,-0.5,0.5|0.0,0.5,0.5|0.0,-0.5,0.5|0.0,0.5,0.5|0.0,-0.5,0.5|0.0,0.5,0.5|0.0,-0.5,0.5|0.0,0.5,0.5|0.0,-0.5,0.5|0.0,0.5,0.5|0.0,-0.5,0.5|0.0,0.5,0.5|0.0,-0.5,0.5|0.0,0.5,0.5|0.0,-0.5,0.5|0.0,0.5,0.5|0.0,-0.5,0.5|0.0,0.5,0.5|0.0,-0.5,0.5|0.0,0.5,0.5|0.0,-0.5,0.5|0.0,0.5,0.5|0.0,-0.5,0.5|0.0,0.5,0.5|0.0,-0.5,0.5|0.0,0.5,0.5|0.0,-0.5,0.5|0.0,0.5,0.5|0.0,-0.5,0.5|0.0,0.5,0.5|0.0,-0.5,0.5|0.0,0.5,0.5\"\n",
              "            frameborder=\"0\"\n",
              "            allowfullscreen\n",
              "        ></iframe>\n",
              "        "
            ],
            "text/plain": [
              "<IPython.lib.display.IFrame at 0x7f284d2d0278>"
            ]
          },
          "metadata": {
            "tags": []
          },
          "execution_count": 127
        }
      ]
    }
  ]
}