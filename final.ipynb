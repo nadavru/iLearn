{
  "nbformat": 4,
  "nbformat_minor": 0,
  "metadata": {
    "colab": {
      "name": "Untitled9.ipynb",
      "provenance": [],
      "collapsed_sections": [],
      "toc_visible": true,
      "authorship_tag": "ABX9TyO5nZPT/r7m1rbnKN1FyNm2",
      "include_colab_link": true
    },
    "kernelspec": {
      "name": "python3",
      "display_name": "Python 3"
    }
  },
  "cells": [
    {
      "cell_type": "markdown",
      "metadata": {
        "id": "view-in-github",
        "colab_type": "text"
      },
      "source": [
        "<a href=\"https://colab.research.google.com/github/nadavru/iLearn/blob/iLearnML/final.ipynb\" target=\"_parent\"><img src=\"https://colab.research.google.com/assets/colab-badge.svg\" alt=\"Open In Colab\"/></a>"
      ]
    },
    {
      "cell_type": "code",
      "metadata": {
        "id": "9jEvwvue8hcH"
      },
      "source": [
        "import numpy as np\r\n",
        "from abc import ABCMeta, abstractmethod\r\n",
        "from IPython.display import IFrame\r\n",
        "import math\r\n",
        "from math import exp, pi\r\n",
        "from numpy.linalg import inv"
      ],
      "execution_count": 44,
      "outputs": []
    },
    {
      "cell_type": "markdown",
      "metadata": {
        "id": "piQgU-S5YhYN"
      },
      "source": [
        "# optimizers"
      ]
    },
    {
      "cell_type": "code",
      "metadata": {
        "id": "e7pQRw01ZXMU"
      },
      "source": [
        "class opt:\r\n",
        "    def __init__(self, x, y, lr, momentum): \r\n",
        "      self.x=x\r\n",
        "      self.y=y\r\n",
        "      self.lr=lr\r\n",
        "      self.momentum=momentum\r\n",
        "\r\n",
        "    @abstractmethod\r\n",
        "    def step(self, d:list, d2):\r\n",
        "      pass"
      ],
      "execution_count": 45,
      "outputs": []
    },
    {
      "cell_type": "code",
      "metadata": {
        "id": "d4_doIcOYpy5"
      },
      "source": [
        "class SGD(opt):\r\n",
        "  def __init__(self, x, y, lr, momentum=0): \r\n",
        "      super().__init__(x, y, lr, momentum)\r\n",
        "  def step(self, d, d2=None):\r\n",
        "    self.x = self.x-self.lr*d[0]\r\n",
        "    self.y = self.y-self.lr*d[1]\r\n",
        "    return (self.x, self.y)\r\n",
        "    "
      ],
      "execution_count": 46,
      "outputs": []
    },
    {
      "cell_type": "code",
      "metadata": {
        "id": "QkdgkznVaxLf"
      },
      "source": [
        "class MomentumSGD(opt):\r\n",
        "  def __init__(self, x, y, lr, momentum=0.9): \r\n",
        "      super().__init__(x, y, lr, momentum)\r\n",
        "      self.dx, self.dy = 0, 0\r\n",
        "  def step(self, d, d2=None):\r\n",
        "    self.dx = self.momentum*self.dx - self.lr*d[0]\r\n",
        "    self.dy = self.momentum*self.dy - self.lr*d[1]\r\n",
        "    self.x = self.x + self.dx\r\n",
        "    self.y = self.y + self.dy\r\n",
        "    return (self.x, self.y)"
      ],
      "execution_count": 47,
      "outputs": []
    },
    {
      "cell_type": "code",
      "metadata": {
        "id": "B_Ptt6XKebJU"
      },
      "source": [
        "class Newton(opt):\r\n",
        "  def __init__(self, x, y, lr, momentum=0): \r\n",
        "      super().__init__(x, y, lr, momentum)\r\n",
        "  def step(self, d1, d2=None):\r\n",
        "    d1 = np.array(d1)\r\n",
        "    d2 = np.array(d2)\r\n",
        "    d2 = inv(d2)\r\n",
        "    d = -np.matmul(d2, d1)\r\n",
        "    self.x = self.x + self.lr*d[0]\r\n",
        "    self.y = self.y + self.lr*d[1]\r\n",
        "    return (self.x, self.y)"
      ],
      "execution_count": 48,
      "outputs": []
    },
    {
      "cell_type": "markdown",
      "metadata": {
        "id": "QkTMWxmmLX3R"
      },
      "source": [
        "# Learning"
      ]
    },
    {
      "cell_type": "code",
      "metadata": {
        "id": "wf-0wyziK7Bp"
      },
      "source": [
        "class Trainer:\r\n",
        "    def __init__(self, grid_x, grid_y, lr=0.5, epochs=50, opt=SGD, x=None, y=None): \r\n",
        "        self.lr=lr\r\n",
        "        self.x_cur = 2*grid_x*np.random.random_sample()-grid_x if x is None else x\r\n",
        "        self.y_cur = 2*grid_y*np.random.random_sample()-grid_y if y is None else y\r\n",
        "        self.epochs=epochs\r\n",
        "\r\n",
        "        x = np.linspace(-grid_x, grid_x, 1000)\r\n",
        "        y = np.linspace(-grid_y, grid_y, 1000)\r\n",
        "        self.X, self.Y = np.meshgrid(x, y)\r\n",
        "        self.opt = opt(self.x_cur, self.y_cur, self.lr)\r\n",
        "\r\n",
        "    def __call__(self): \r\n",
        "        return self.X, self.Y, np.where(True, self.calc(self.X, self.Y), 0)\r\n",
        "    \r\n",
        "    def train(self): \r\n",
        "        self.Xs = [self.x_cur]\r\n",
        "        self.Ys = [self.y_cur]\r\n",
        "        self.Zs = [self.calc(self.x_cur, self.y_cur)]\r\n",
        "\r\n",
        "        for _ in range(self.epochs):\r\n",
        "            d = self.derive(self.x_cur, self.y_cur)\r\n",
        "            d2 = self.derive2(self.x_cur, self.y_cur)\r\n",
        "            #print(d)\r\n",
        "            self.x_cur, self.y_cur = self.opt.step(d, d2)\r\n",
        "\r\n",
        "            self.Xs.append(self.x_cur)\r\n",
        "            self.Ys.append(self.y_cur)\r\n",
        "            self.Zs.append(self.calc(self.x_cur, self.y_cur))\r\n",
        "        return self.Xs, self.Ys, self.Zs\r\n",
        "\r\n",
        "    @abstractmethod\r\n",
        "    def display(self): \r\n",
        "      pass\r\n",
        "    \r\n",
        "    def derive2(self, x, y): \r\n",
        "      return None\r\n",
        "    \r\n",
        "    @abstractmethod\r\n",
        "    def calc(self, x, y): \r\n",
        "      pass\r\n",
        "\r\n",
        "    @abstractmethod\r\n",
        "    def derive(self, x, y): \r\n",
        "      pass"
      ],
      "execution_count": 49,
      "outputs": []
    },
    {
      "cell_type": "code",
      "metadata": {
        "id": "iMZNDVW7LfoU"
      },
      "source": [
        "class SVM(Trainer):\r\n",
        "\r\n",
        "  def __init__(self, group_size, p0, p1, grid_x=50, grid_y=50, lr=0.5, epochs=10, opt=SGD): \r\n",
        "        super().__init__(grid_x, grid_y, lr, epochs, opt)\r\n",
        "        (x0, y0, var0) = p0\r\n",
        "        (x1, y1, var1) = p1\r\n",
        "        self.group_size = group_size\r\n",
        "        group0 = np.array(list(zip(list(np.random.normal(x0, var0, group_size)), list(np.random.normal(y0, var0, group_size)),[-1]*group_size)))\r\n",
        "        group1 = np.array(list(zip(list(np.random.normal(x1, var1, group_size)), list(np.random.normal(y1, var0, group_size)),[1]*group_size)))\r\n",
        "\r\n",
        "        self.data = np.concatenate((group0, group1))\r\n",
        "\r\n",
        "        url = \"https://i-learn-ml.oa.r.appspot.com/viewer/viewerSVM.html#\"\r\n",
        "        #grid = 30\r\n",
        "        self.disp_url = url+f\"xmax={grid_x}&xmin=-{grid_x}&ymax={grid_y}&ymin=-{grid_y}&\"\r\n",
        "        \r\n",
        "        url2 = \"https://i-learn-ml.oa.r.appspot.com/viewer/viewerGD.html#\"\r\n",
        "        self.disp_url2 = url2+f\"xmax={grid_x}&xmin=-{grid_x}&ymax={grid_y}&ymin=-{grid_y}&\"\r\n",
        "\r\n",
        "        #self.X, self.Y = np.concatenate((self.group0[:,0],self.group1[:,0])), np.concatenate((self.group0[:,1],self.group1[:,1]))\r\n",
        "\r\n",
        "  def calc(self, x, y): \r\n",
        "    '''act0 = np.tanh(x*self.group0[:,0]+y*self.group0[:,1])+1\r\n",
        "    act1 = 1-np.tanh(x*self.group1[:,0]+y*self.group1[:,1])\r\n",
        "\r\n",
        "    loss = (np.sum(act0)+np.sum(act1))/(2*self.group_size)'''\r\n",
        "    pred = np.sign(np.tanh(x*self.data[:,0]+y*self.data[:,1]))\r\n",
        "    #print(pred, self.data[:,2])\r\n",
        "    acc = np.sum(np.equal(pred, self.data[:,2]))/(2*self.group_size)\r\n",
        "    #print(acc)\r\n",
        "    #loss = np.mean(1-np.tanh(self.data[:,2]*(x*self.data[:,0]+y*self.data[:,1])))\r\n",
        "    '''self.scores = (x*self.data[:,0]+y*self.data[:,1])\r\n",
        "    self.keep = np.exp(-self.data[:,2]*self.scores)/(1+np.exp(-self.data[:,2]*self.scores))\r\n",
        "    loss = np.mean(self.keep)'''\r\n",
        "    loss = np.mean(-self.data[:,2]*(x*self.data[:,0]+y*self.data[:,1]))\r\n",
        "    return loss\r\n",
        "  \r\n",
        "  def pred(self):\r\n",
        "    pred_y = np.sign(np.tanh(self.x_cur*self.data[:,0]+self.y_cur*self.data[:,1]))\r\n",
        "    acc = np.sum(np.equal(pred_y, self.data[:,2]))/(2*self.group_size)\r\n",
        "    return acc\r\n",
        "  \r\n",
        "  def derive(self, x, y): \r\n",
        "    '''der0 = 1/(2*self.group_size*np.cosh(x*self.group0[:,0]+y*self.group0[:,1])**2)\r\n",
        "    der1 = -1/(2*self.group_size*np.cosh(x*self.group1[:,0]+y*self.group1[:,1])**2)\r\n",
        "    dx = np.sum(self.group0[:,0]*der0) + np.sum(self.group1[:,0]*der1)\r\n",
        "    dy = np.sum(self.group0[:,1]*der0) + np.sum(self.group1[:,1]*der1)'''\r\n",
        "    \r\n",
        "    '''der = -1/np.cosh(self.data[:,2]*(x*self.data[:,0]+y*self.data[:,1]))**2\r\n",
        "    dx = np.mean(self.data[:,2]*self.data[:,0]*der)\r\n",
        "    dy = np.mean(self.data[:,2]*self.data[:,1]*der)'''\r\n",
        "    \r\n",
        "    '''der = -self.keep*(1-self.keep)\r\n",
        "    dx = np.mean(self.data[:,2]*self.data[:,0]*der)\r\n",
        "    dy = np.mean(self.data[:,2]*self.data[:,1]*der)'''\r\n",
        "\r\n",
        "    dx = np.mean(-self.data[:,2]*self.data[:,0])\r\n",
        "    dy = np.mean(-self.data[:,2]*self.data[:,1])\r\n",
        "\r\n",
        "    return [dx, dy]\r\n",
        "\r\n",
        "  def display(self): \r\n",
        "    points_str = \"\"\r\n",
        "    x = 30\r\n",
        "    for i in range(len(self.Xs)):\r\n",
        "      points_str+=(str)(-x)+\",\"+(str)(x*self.Xs[i]/self.Ys[i])+\",\"+(str)(0)+\"|\"+(str)(x)+\",\"+(str)(-x*self.Xs[i]/self.Ys[i])+\",\"+(str)(0)+\"|\"\r\n",
        "    points_str=points_str[:-1]\r\n",
        "\r\n",
        "    points_red = \"\"\r\n",
        "    for (x,y) in self.data[:self.group_size,:2]:\r\n",
        "      points_red += f\"{x},{y},0\"+\"|\"\r\n",
        "    points_red=points_red[:-1]\r\n",
        "    \r\n",
        "    points_blue = \"\"\r\n",
        "    for (x,y) in self.data[self.group_size:,:2]:\r\n",
        "      points_blue += f\"{x},{y},0\"+\"|\"\r\n",
        "    points_blue=points_blue[:-1]\r\n",
        "\r\n",
        "    src=self.disp_url+f\"points_red={points_red}&points_blue={points_blue}&vec={points_str}\"\r\n",
        "    return src\r\n",
        "  \r\n",
        "  def display2(self): \r\n",
        "    points_str = \"\"\r\n",
        "    for i in range(len(self.Xs)):\r\n",
        "      points_str+=(str)(self.Xs[i])+\",\"+(str)(self.Ys[i])+\",\"+(str)(self.Zs[i])+\"|\"\r\n",
        "    points_str=points_str[:-1]\r\n",
        "\r\n",
        "    x_sum = np.mean(-self.data[:,2]*self.data[:,0])\r\n",
        "    y_sum = np.mean(-self.data[:,2]*self.data[:,1])\r\n",
        "    \r\n",
        "    f_str = f\"{x_sum}*x+{y_sum}*y\".replace(\"+-\",\"-\")\r\n",
        "\r\n",
        "    src=self.disp_url2+f\"func={f_str}&points={points_str}\"\r\n",
        "    return src"
      ],
      "execution_count": null,
      "outputs": []
    },
    {
      "cell_type": "code",
      "metadata": {
        "colab": {
          "base_uri": "https://localhost:8080/",
          "height": 655
        },
        "id": "YA45_xlJL9fl",
        "outputId": "85e717df-280d-423d-a427-644042a0be56"
      },
      "source": [
        "T = SVM(50, (-5,-5,5), (5,5,5), lr=0.5, epochs=30)\r\n",
        "print(f\"accuracy before training: {100*T.pred()}%\")\r\n",
        "Xs, Ys, Zs = T.train()\r\n",
        "print(f\"accuracy after training: {100*T.pred()}%\")\r\n",
        "\r\n",
        "src1 = T.display()\r\n",
        "\r\n",
        "IFrame(src=src1, width=700, height=600)"
      ],
      "execution_count": null,
      "outputs": [
        {
          "output_type": "stream",
          "text": [
            "accuracy before training: 87.0%\n",
            "accuracy after training: 92.0%\n"
          ],
          "name": "stdout"
        },
        {
          "output_type": "execute_result",
          "data": {
            "text/html": [
              "\n",
              "        <iframe\n",
              "            width=\"700\"\n",
              "            height=\"600\"\n",
              "            src=\"https://i-learn-ml.oa.r.appspot.com/viewer/viewerSVM.html#xmax=50&xmin=-50&ymax=50&ymin=-50&points_red=-4.177679350756033,-3.803690103129103,0|3.394991076573369,-8.22179052747525,0|-7.134372779234722,-0.2910514800533912,0|-3.445478940099449,-3.6321832338548816,0|2.9844818907026163,-0.35107824974002266,0|-5.4675724031151365,-3.3710538418356015,0|-6.162147753487986,-10.625496159497043,0|-5.8284671997508175,-0.5620294004952271,0|2.5515353217251295,-2.2320506796147574,0|-7.190293098338168,-12.241716269896,0|-10.645752466366734,-8.320797141900826,0|-3.6777492095012523,-4.88119040883933,0|0.8635578121008223,-1.6833307187020807,0|-2.0335524614949656,7.298515533820888,0|-9.333653885630559,-9.670019415301716,0|-2.91516664458578,-0.8025387589041619,0|-1.1010069902477464,-15.01772867243191,0|-8.283670419030253,-2.6418648630764077,0|-13.093893539916047,-6.302835642487449,0|1.6995158924600497,-11.976564987824002,0|-6.9640744956354945,2.696999869822686,0|3.206198005226124,-8.486177682200093,0|-3.156566202561285,-16.28419731467985,0|-10.34455994288465,-9.631976311766387,0|2.4916250396271646,-6.096870688998015,0|-10.698096658862944,7.122513389003808,0|-7.47135002889899,-1.029519570163763,0|-6.235864269663528,-1.180872448222944,0|2.2776623306127286,-0.037761588026221204,0|-3.3791143506641905,-11.71480822399312,0|-11.890798653768712,-4.125517160901425,0|-6.334752035543436,8.818448895242657,0|-3.825970947755433,-3.9147468919274955,0|1.1896528140183698,-5.413397384518577,0|-5.716886285340691,-8.852807810441865,0|-1.8836416634884854,-10.20462946532553,0|1.5570836869251874,-2.1698445347331163,0|5.842670151907756,-5.714959880195453,0|-1.8060625552336358,-2.257366853893676,0|-17.353921448172276,-4.404386647916791,0|0.8053808990067202,1.8302377433989605,0|-5.847539000851275,-3.810866748211157,0|-2.9333288366435877,4.6398914677752465,0|-0.5941529248675543,-8.699413943300982,0|-20.96171100298963,-8.274697809457987,0|-4.454330907481449,-2.705764010669533,0|-9.42636969401833,-1.9921794171380731,0|-1.3577601848570637,9.463940199896312,0|7.375709320816686,-7.492835146281051,0|-1.9811015259445415,-3.2231449813921076,0&points_blue=13.565253916093166,-0.8014691051280423,0|9.483077900165997,4.212895534151293,0|9.642473081891357,-5.553081418548082,0|4.347067886100597,9.673813559108615,0|-2.1426418966893674,10.266547473257091,0|5.628419968479953,5.2687837804370705,0|8.57933579528798,5.9481818223517395,0|5.482543337336185,-0.490709292145441,0|5.8116145337196965,-1.510386675969201,0|8.783477720849092,-0.7481447172509998,0|4.820700270270879,16.804424616284543,0|4.080378756333038,5.4866652564041765,0|0.6254034030150208,-0.4864485606933755,0|-0.6444715607038471,9.109762054804811,0|7.171443002177791,11.070523176421176,0|11.818465682547876,13.377101092870236,0|10.120474544107058,1.6583469632508825,0|3.0604213949179897,14.872403236651845,0|3.6440682201929393,8.286553685620586,0|-0.09835779873836081,-3.5802400237272174,0|-2.277509299784592,9.33170899911975,0|2.8086542122296105,4.124051925615962,0|5.886868587293789,4.337116901276932,0|5.835318547599978,-4.262354162832732,0|6.901369353610378,-0.8358641622802097,0|4.946398443642348,8.523787633104867,0|-0.7611909317657073,3.835044491084104,0|5.623638271505367,-2.245949500788761,0|9.101148746940202,12.195295671520357,0|8.635107910560208,3.306381650789918,0|15.015892466202999,-2.613647765101125,0|4.962557575266169,2.278883388458463,0|-3.81148373865158,4.715499219847177,0|9.982050063385572,1.0762304955874265,0|1.2839711212375713,4.329795509947334,0|-0.7622103524717749,2.102145662264987,0|1.5500139437199318,-0.45315291580466877,0|3.948897386908914,-0.12185778391485336,0|6.803758581667886,10.499946312710723,0|4.076953677168818,5.931149191702841,0|-2.5648876594476295,11.019851973111304,0|7.261890914310559,9.32143129760308,0|6.7848475848075624,1.5054842378307782,0|7.9986415236244515,1.4206177051200468,0|3.516935556992312,6.646911563214175,0|4.294151275563914,8.32351005874009,0|7.191570467514017,2.831519577943665,0|4.601331910334747,-3.0234029733407723,0|11.024759363540788,7.052493445383403,0|6.319509503846796,4.137459718080713,0&vec=-30,16.506138099525682,0|30,-16.506138099525682,0|-30,17.193410391737004,0|30,-17.193410391737004,0|-30,17.82480109778715,0|30,-17.82480109778715,0|-30,18.406859493135652,0|30,-18.406859493135652,0|-30,18.945149905409462,0|30,-18.945149905409462,0|-30,19.44443016346119,0|30,-19.44443016346119,0|-30,19.90879260622524,0|30,-19.90879260622524,0|-30,20.341776506236208,0|30,-20.341776506236208,0|-30,20.746458447483818,0|30,-20.746458447483818,0|-30,21.125525541531342,0|30,-21.125525541531342,0|-30,21.481335167221207,0|30,-21.481335167221207,0|-30,21.815964041766627,0|30,-21.815964041766627,0|-30,22.131248781778538,0|30,-22.131248781778538,0|-30,22.42881962767488,0|30,-22.42881962767488,0|-30,22.710128639113147,0|30,-22.710128639113147,0|-30,22.976473390846778,0|30,-22.976473390846778,0|-30,23.229016985044552,0|30,-23.229016985044552,0|-30,23.46880503124524,0|30,-23.46880503124524,0|-30,23.69678011680174,0|30,-23.69678011680174,0|-30,23.913794190114107,0|30,-23.913794190114107,0|-30,24.120619199640835,0|30,-24.120619199640835,0|-30,24.317956268740463,0|30,-24.317956268740463,0|-30,24.506443636158995,0|30,-24.506443636158995,0|-30,24.686663551657933,0|30,-24.686663551657933,0|-30,24.859148283744673,0|30,-24.859148283744673,0|-30,25.024385370085366,0|30,-25.024385370085366,0|-30,25.18282221968469,0|30,-25.18282221968469,0|-30,25.33487015832172,0|30,-25.33487015832172,0|-30,25.480907994265653,0|30,-25.480907994265653,0|-30,25.621285169352973,0|30,-25.621285169352973,0|-30,25.75632455060872,0|30,-25.75632455060872,0\"\n",
              "            frameborder=\"0\"\n",
              "            allowfullscreen\n",
              "        ></iframe>\n",
              "        "
            ],
            "text/plain": [
              "<IPython.lib.display.IFrame at 0x7f2855c5eda0>"
            ]
          },
          "metadata": {
            "tags": []
          },
          "execution_count": 102
        }
      ]
    },
    {
      "cell_type": "code",
      "metadata": {
        "colab": {
          "base_uri": "https://localhost:8080/",
          "height": 620
        },
        "id": "OYEEw0fcMhTi",
        "outputId": "27a9379f-7bad-4c08-e5a6-87b0ba3c9f4b"
      },
      "source": [
        "src2 = T.display2()\r\n",
        "\r\n",
        "IFrame(src=src2, width=700, height=600)"
      ],
      "execution_count": null,
      "outputs": [
        {
          "output_type": "execute_result",
          "data": {
            "text/html": [
              "\n",
              "        <iframe\n",
              "            width=\"700\"\n",
              "            height=\"600\"\n",
              "            src=\"https://i-learn-ml.oa.r.appspot.com/viewer/viewerGD.html#xmax=50&xmin=-50&ymax=50&ymin=-50&func=-4.588264496806887*x-4.206328157946005*y&points=26.14910512353144,47.52614748379487,-319.8895830613514|28.443237371934885,49.629311562767874,-339.26226689384544|30.737369620338328,51.732475641740876,-358.63495072633935|33.03150186874177,53.83563972071388,-378.0076345588334|35.32563411714521,55.93880379968688,-397.38031839132736|37.61976636554866,58.04196787865988,-416.7530022238214|39.9138986139521,60.145131957632884,-436.1256860563153|42.20803086235554,62.248296036605886,-455.4983698888094|44.502163110758985,64.35146011557889,-474.87105372130327|46.79629535916243,66.4546241945519,-494.2437375537974|49.09042760756587,68.5577882735249,-513.6164213862914|51.384559855969314,70.66095235249792,-532.9891052187854|53.67869210437276,72.76411643147092,-552.3617890512794|55.9728243527762,74.86728051044393,-571.7344728837734|58.26695660117964,76.97044458941694,-591.1071567162675|60.561088849583086,79.07360866838995,-610.4798405487614|62.85522109798653,81.17677274736296,-629.8525243812555|65.14935334638997,83.27993682633597,-649.2252082137496|67.44348559479342,85.38310090530898,-668.5978920462436|69.73761784319686,87.48626498428199,-687.9705758787376|72.0317500916003,89.589429063255,-707.3432597112317|74.32588234000374,91.692593142228,-726.7159435437258|76.62001458840719,93.79575722120101,-746.0886273762195|78.91414683681063,95.89892130017402,-765.4613112087136|81.20827908521407,98.00208537914703,-784.8339950412077|83.50241133361752,100.10524945812004,-804.2066788737018|85.79654358202096,102.20841353709305,-823.5793627061956|88.0906758304244,104.31157761606606,-842.9520465386895|90.38480807882785,106.41474169503907,-862.3247303711838|92.67894032723129,108.51790577401208,-881.6974142036779|94.97307257563473,110.62106985298509,-901.0700980361717\"\n",
              "            frameborder=\"0\"\n",
              "            allowfullscreen\n",
              "        ></iframe>\n",
              "        "
            ],
            "text/plain": [
              "<IPython.lib.display.IFrame at 0x7f284d29f908>"
            ]
          },
          "metadata": {
            "tags": []
          },
          "execution_count": 103
        }
      ]
    },
    {
      "cell_type": "markdown",
      "metadata": {
        "id": "MGHIDXOJMo7j"
      },
      "source": [
        "# test-functions"
      ]
    },
    {
      "cell_type": "code",
      "metadata": {
        "id": "IuVD2e12LIt7"
      },
      "source": [
        "e = exp(1)\r\n",
        "\r\n",
        "class Gaussian_helper: \r\n",
        "    def __init__(self, a, px, py, c=1): \r\n",
        "        self.a=a\r\n",
        "        self.px=px\r\n",
        "        self.py=py\r\n",
        "        self.c=c\r\n",
        "\r\n",
        "    def calc(self, x, y): \r\n",
        "        return -self.a*e**(-((x-self.px)**2+(y-self.py)**2)/(2*self.c**2))\r\n",
        "\r\n",
        "    def derive(self, x, y): \r\n",
        "        tmp = (self.a/self.c**2)*e**(-((x-self.px)**2+(y-self.py)**2)/(2*self.c**2))\r\n",
        "        return (tmp*(x-self.px), tmp*(y-self.py))\r\n",
        "\r\n",
        "class Gaussian(Trainer):\r\n",
        "\r\n",
        "    def __init__(self, apc:list, grid_x, grid_y, lr=0.5, epochs=50, opt=SGD, x=None, y=None): \r\n",
        "        super().__init__(grid_x, grid_y, lr, epochs, opt, x, y)\r\n",
        "        self.g_list = [Gaussian_helper(*i) for i in apc]\r\n",
        "\r\n",
        "        url = \"https://i-learn-ml.oa.r.appspot.com/viewer/viewerGD.html#\"\r\n",
        "        self.disp_url = url+f\"xmax={grid_x}&xmin=-{grid_x}&ymax={grid_y}&ymin=-{grid_y}&\"\r\n",
        "\r\n",
        "        self.f_str = \"\"\r\n",
        "        for a, px, py, c in apc:\r\n",
        "            s_x = \"-\"+(str)(px) if px>0 else \"+\"+(str)(-px)\r\n",
        "            s_y = \"-\"+(str)(py) if py>0 else \"+\"+(str)(-py)\r\n",
        "            self.f_str += f\"-{a}*e^(-((x{s_x})^2+(y{s_y})^2)/(2*{c}^2))\"\r\n",
        "        \r\n",
        "    def calc(self, x, y): \r\n",
        "        return sum([G.calc(x, y) for G in self.g_list])\r\n",
        "\r\n",
        "    def derive(self, x, y): \r\n",
        "        d_list = [G.derive(x, y) for G in self.g_list]\r\n",
        "        return [sum(i) for i in zip(*d_list)]\r\n",
        "    \r\n",
        "    def display(self): \r\n",
        "        points_str = \"\"\r\n",
        "        for i in range(len(self.Xs)):\r\n",
        "          points_str+=(str)(self.Xs[i])+\",\"+(str)(self.Ys[i])+\",\"+(str)(self.Zs[i])+\"|\"\r\n",
        "        points_str=points_str[:-1]\r\n",
        "\r\n",
        "        src=self.disp_url+f\"func={self.f_str}&points={points_str}\"\r\n",
        "        return src"
      ],
      "execution_count": 50,
      "outputs": []
    },
    {
      "cell_type": "code",
      "metadata": {
        "id": "oq4bdD1cMvwY"
      },
      "source": [
        "class Rosenbrock(Trainer):\r\n",
        "\r\n",
        "    def __init__(self, a=1, b=100, grid_x=3, grid_y=3, lr=0.0001, epochs=50, opt=SGD, x=None, y=None): \r\n",
        "        super().__init__(grid_x, grid_y, lr, epochs, opt, x, y)\r\n",
        "\r\n",
        "        url = \"https://i-learn-ml.oa.r.appspot.com/viewer/viewerGD.html#\"\r\n",
        "        self.disp_url = url+f\"xmax={grid_x}&xmin=-{grid_x}&ymax={grid_y}&ymin=-{grid_y}&\"\r\n",
        "\r\n",
        "        self.a, self.b = a, b\r\n",
        "        self.f_str = f\"({a}-x)^2+{b}*(y-x^2)^2\"\r\n",
        "        \r\n",
        "        \r\n",
        "    def calc(self, x, y): \r\n",
        "        return (self.a-x)**2+self.b*(y-x**2)**2\r\n",
        "\r\n",
        "    def derive(self, x, y): \r\n",
        "        dx = 2*x*(-2*self.b*(y-x**2)-1)\r\n",
        "        dy = 2*self.b*(y-x**2)\r\n",
        "        return [dx, dy]\r\n",
        "    \r\n",
        "    def derive2(self, x, y): \r\n",
        "        dxx = 12*self.b*x**2-4*self.b*y+2\r\n",
        "        dxy = -4*self.b*x\r\n",
        "        dyx = -4*self.b*x\r\n",
        "        dyy = 2*self.b\r\n",
        "        return [[dxx, dxy], [dyx, dyy]]\r\n",
        "    \r\n",
        "    def display(self): \r\n",
        "        points_str = \"\"\r\n",
        "        for i in range(len(self.Xs)):\r\n",
        "          points_str+=(str)(self.Xs[i])+\",\"+(str)(self.Ys[i])+\",\"+(str)(self.Zs[i])+\"|\"\r\n",
        "        points_str=points_str[:-1]\r\n",
        "\r\n",
        "        src=self.disp_url+f\"func={self.f_str}&points={points_str}\"\r\n",
        "        return src"
      ],
      "execution_count": 51,
      "outputs": []
    },
    {
      "cell_type": "code",
      "metadata": {
        "id": "s8ZAUp2rM3A-"
      },
      "source": [
        "class Rastrigin(Trainer):\r\n",
        "\r\n",
        "    def __init__(self, A=10, grid_x=6, grid_y=6, lr=0.0001, epochs=50, opt=SGD, x=None, y=None): \r\n",
        "        super().__init__(grid_x, grid_y, lr, epochs, opt, x, y)\r\n",
        "\r\n",
        "        url = \"https://i-learn-ml.oa.r.appspot.com/viewer/viewerGD.html#\"\r\n",
        "        self.disp_url = url+f\"xmax={grid_x}&xmin=-{grid_x}&ymax={grid_y}&ymin=-{grid_y}&\"\r\n",
        "\r\n",
        "        self.A = A\r\n",
        "        self.f_str = f\"{2*A}+x^2-{A}*cos({2*pi}*x)+y^2-{A}*cos({2*pi}*y)\"\r\n",
        "        \r\n",
        "        \r\n",
        "    def calc(self, x, y): \r\n",
        "        return 2*self.A+x**2-self.A*math.cos(2*pi*x)+y**2-self.A*math.cos(2*pi*y)\r\n",
        "\r\n",
        "    def derive(self, x, y): \r\n",
        "        dx = 2*(pi*self.A*math.sin(2*pi*x)+x)\r\n",
        "        dy = 2*(pi*self.A*math.sin(2*pi*y)+y)\r\n",
        "        return [dx, dy]\r\n",
        "    \r\n",
        "    def display(self): \r\n",
        "        points_str = \"\"\r\n",
        "        for i in range(len(self.Xs)):\r\n",
        "          points_str+=(str)(self.Xs[i])+\",\"+(str)(self.Ys[i])+\",\"+(str)(self.Zs[i])+\"|\"\r\n",
        "        points_str=points_str[:-1]\r\n",
        "\r\n",
        "        src=self.disp_url+f\"func={self.f_str}&points={points_str}\"\r\n",
        "        return src"
      ],
      "execution_count": 52,
      "outputs": []
    },
    {
      "cell_type": "code",
      "metadata": {
        "id": "8Vt7zO5ZM8OA"
      },
      "source": [
        "class Himmelblau(Trainer):\r\n",
        "\r\n",
        "    def __init__(self, grid_x=6, grid_y=6, lr=0.001, epochs=50, opt=SGD, x=None, y=None): \r\n",
        "        super().__init__(grid_x, grid_y, lr, epochs, opt, x, y)\r\n",
        "\r\n",
        "        url = \"https://i-learn-ml.oa.r.appspot.com/viewer/viewerGD.html#\"\r\n",
        "        self.disp_url = url+f\"xmax={grid_x}&xmin=-{grid_x}&ymax={grid_y}&ymin=-{grid_y}&\"\r\n",
        "\r\n",
        "        self.f_str = f\"(x^2+y-11)^2+(x+y^2-7)^2\"\r\n",
        "        \r\n",
        "        self.f_str_arr = []\r\n",
        "        \r\n",
        "        \r\n",
        "    def calc(self, x, y): \r\n",
        "        return (x**2+y-11)**2+(x+y**2-7)**2\r\n",
        "\r\n",
        "    def derive(self, x, y): \r\n",
        "        dx = 2*(2*x*(x**2+y-11)+x+y**2-7)\r\n",
        "        dy = 2*(2*y*(x+y**2-7)+x**2+y-11)\r\n",
        "\r\n",
        "        self.f_str_arr.append(self.calc_f())\r\n",
        "        return [dx, dy]\r\n",
        "    \r\n",
        "    def derive2(self, x, y): \r\n",
        "        dxx = 12*x**2+4*y-42\r\n",
        "        dxy = 4*(x+y)\r\n",
        "        dyx = 4*(x+y)\r\n",
        "        dyy = 12*y**2+4*x-26\r\n",
        "        return [[dxx, dxy], [dyx, dyy]]\r\n",
        "    \r\n",
        "    def display(self): \r\n",
        "        points_str = \"\"\r\n",
        "        for i in range(len(self.Xs)):\r\n",
        "          points_str+=(str)(self.Xs[i])+\",\"+(str)(self.Ys[i])+\",\"+(str)(self.Zs[i])+\"|\"\r\n",
        "        points_str=points_str[:-1]\r\n",
        "\r\n",
        "        src=self.disp_url+f\"func={self.f_str}&points={points_str}\"\r\n",
        "        return src\r\n",
        "    \r\n",
        "    def calc_f(self): \r\n",
        "\r\n",
        "        '''dx = f\"2*(2*{self.x_cur}*({self.x_cur}^2+{self.y_cur}-11)+{self.x_cur}+{self.y_cur}^2-7)\"\r\n",
        "        dy = f\"2*(2*{self.y_cur}*({self.x_cur}+{self.y_cur}^2-7)+{self.x_cur}^2+{self.y_cur}-11)\"\r\n",
        "        dxx = f\"(12*{self.x_cur}^2+4*{self.y_cur}-42)\"\r\n",
        "        dxy = f\"4*({self.x_cur}+{self.y_cur})\"\r\n",
        "        dyx = f\"4*({self.x_cur}+{self.y_cur})\"\r\n",
        "        dyy = f\"(12*{self.y_cur}^2+4*{self.x_cur}-26)\"\r\n",
        "        f_str = f\"({self.x_cur}^2+{self.y_cur}-11)^2+({self.x_cur}+{self.y_cur}^2-7)^2\"'''\r\n",
        "\r\n",
        "        x, y = self.x_cur, self.y_cur\r\n",
        "        d = self.derive2(self.x_cur, self.y_cur)\r\n",
        "\r\n",
        "        dx = 2*(2*x*(x**2+y-11)+x+y**2-7)\r\n",
        "        dy = 2*(2*y*(x+y**2-7)+x**2+y-11)\r\n",
        "        dxx, dxy = d[0]\r\n",
        "        dyx, dyy = d[1]\r\n",
        "        f_val = self.calc(self.x_cur, self.y_cur)\r\n",
        "        \r\n",
        "        Hx = f\"((x-{self.x_cur})*{dxx}+(y-{self.y_cur})*{dyx})\"\r\n",
        "        Hy = f\"((x-{self.x_cur})*{dxy}+(y-{self.y_cur})*{dyy})\"\r\n",
        "\r\n",
        "        A = f\"0.5*(x-{self.x_cur})*{Hx}+(y-{self.y_cur})*{Hy}\"\r\n",
        "\r\n",
        "        B = f\"((x-{self.x_cur})*{dx}+(y-{self.y_cur})*{dy})\"\r\n",
        "\r\n",
        "        f_str2 = f\"{f_val}+{A}+{B}\"\r\n",
        "\r\n",
        "        src=f_str2\r\n",
        "        return src\r\n",
        "\r\n",
        "    def display2(self): \r\n",
        "        points_str = \"\"\r\n",
        "        for i in range(len(self.Xs)):\r\n",
        "          points_str+=(str)(self.Xs[i])+\",\"+(str)(self.Ys[i])+\",\"+(str)(self.Zs[i])+\"|\"\r\n",
        "        points_str=points_str[:-1]\r\n",
        "\r\n",
        "        src=self.disp_url+f\"func={self.f_str}&points={points_str}&curves=\"\r\n",
        "        for func in self.f_str_arr:\r\n",
        "          src += func + \"|\"\r\n",
        "        \r\n",
        "        src = src[:-1]\r\n",
        "        \r\n",
        "        return src\r\n",
        "      "
      ],
      "execution_count": 86,
      "outputs": []
    },
    {
      "cell_type": "code",
      "metadata": {
        "id": "5cDyKk07JbP0"
      },
      "source": [
        "class Beale(Trainer):\r\n",
        "\r\n",
        "    def __init__(self, grid_x=4, grid_y=4, lr=0.0001, epochs=50, opt=SGD, x=None, y=None): \r\n",
        "        super().__init__(grid_x, grid_y, lr, epochs, opt, x, y)\r\n",
        "\r\n",
        "        url = \"https://i-learn-ml.oa.r.appspot.com/viewer/viewerGD.html#\"\r\n",
        "        self.disp_url = url+f\"xmax={grid_x}&xmin=-{grid_x}&ymax={grid_y}&ymin=-{grid_y}&\"\r\n",
        "\r\n",
        "        self.f_str = f\"(1.5-x+x*y)^2+(2.25-x+x*y^2)^2+(2.625-x+x*y^3)^2\"\r\n",
        "        \r\n",
        "        \r\n",
        "    def calc(self, x, y): \r\n",
        "        return (1.5-x+x*y)**2+(2.25-x+x*y**2)**2+(2.625-x+x*y**3)**2\r\n",
        "\r\n",
        "    def derive(self, x, y): \r\n",
        "        dx = 2 * x *(y**6 + y**4 - 2 * y**3 - y**2 - 2 * y + 3) + 5.25 * y**3 + 4.5 * y**2 + 3 * y - 12.75\r\n",
        "        dy = 6 * x * (x * (y**5 + 0.666667 * y**3 - y**2 - 0.333333 * y - 0.333333) + 2.625 * y**2 + 1.5 * y + 0.5)\r\n",
        "        return [dx, dy]\r\n",
        "    \r\n",
        "    def display(self): \r\n",
        "        points_str = \"\"\r\n",
        "        for i in range(len(self.Xs)):\r\n",
        "          points_str+=(str)(self.Xs[i])+\",\"+(str)(self.Ys[i])+\",\"+(str)(self.Zs[i])+\"|\"\r\n",
        "        points_str=points_str[:-1]\r\n",
        "\r\n",
        "        src=self.disp_url+f\"func={self.f_str}&points={points_str}\"\r\n",
        "        return src"
      ],
      "execution_count": 54,
      "outputs": []
    },
    {
      "cell_type": "code",
      "metadata": {
        "id": "kBHmx-XaVXhE"
      },
      "source": [
        "class Absfunc(Trainer):\r\n",
        "\r\n",
        "    def __init__(self, grid_x=10, grid_y=10, lr=0.0001, epochs=50, opt=SGD, x=None, y=None): \r\n",
        "        super().__init__(grid_x, grid_y, lr, epochs, opt, x, y)\r\n",
        "\r\n",
        "        url = \"https://i-learn-ml.oa.r.appspot.com/viewer/viewerGD.html#\"\r\n",
        "        self.disp_url = url+f\"xmax={grid_x}&xmin=-{grid_x}&ymax={grid_y}&ymin=-{grid_y}&\"\r\n",
        "\r\n",
        "        #self.f_str = \"x^4+y^4+50*sin(30*(x^2+y^2)*atan(y/x))\"\r\n",
        "        '''t = \"3*atan(y/x)\"\r\n",
        "        self.f_str = f\"x^2+y^2+20*abs({t}-floor({t})-0.5)\"'''\r\n",
        "        self.f_str = \"abs(x)+abs(y)\"\r\n",
        "        \r\n",
        "        \r\n",
        "    def calc(self, x, y): \r\n",
        "        #return x**4+y**4+50*math.sin(30*(x**2+y**2)*math.atan(y/x))\r\n",
        "        #return x**2+y**2+20*abs(3*math.atan(y/x)-math.floor(3*math.atan(y/x))-0.5)\r\n",
        "        return abs(x)+abs(y)\r\n",
        "\r\n",
        "    def derive(self, x, y): \r\n",
        "        #dx = (4 * (x**5 + x**3 * y**2 - 625 * y * math.cos(50 * math.atan(y/x))))/(x**2 + y**2)\r\n",
        "        #dx = 4 * (x**3 + 750 * x * math.atan(y/x) * math.cos(30 * (x**2 + y**2) * math.atan(y/x)) - 375 * y * math.cos(30 * (x**2 + y**2) * math.atan(y/x)))\r\n",
        "        #dy = 4 * ((625 * x * math.cos(50 * math.atan(y/x)))/(x**2 + y**2) + y**3)\r\n",
        "        #dy = 4 * (750 * y * math.atan(y/x) * math.cos(30 * (x**2 + y**2) * math.atan(y/x)) + 375 * x * math.cos(30 * (x**2 + y**2) * math.atan(y/x)) + y**3)\r\n",
        "        \r\n",
        "        '''if math.sin(3 * pi * math.atan(y/x))!=0 and 3 * math.atan(y/x) - math.floor(3 * math.atan(y/x))>0.5:\r\n",
        "          dx = 2 * x - (60 * y)/(x**2 + y**2)\r\n",
        "          dy = 2 * y + (60 * x)/(x**2 + y**2)\r\n",
        "        else:\r\n",
        "          dx = 2 * x +  (60 * y)/(x**2 + y**2)\r\n",
        "          dy = 2 * y - (60 * x)/(x**2 + y**2)'''\r\n",
        "        \r\n",
        "        dx = x/abs(x) if x!=0 else 0\r\n",
        "        dy = y/abs(y) if y!=0 else 0\r\n",
        "\r\n",
        "        return [dx, dy]\r\n",
        "    \r\n",
        "    def display(self): \r\n",
        "        points_str = \"\"\r\n",
        "        for i in range(len(self.Xs)):\r\n",
        "          points_str+=(str)(self.Xs[i])+\",\"+(str)(self.Ys[i])+\",\"+(str)(self.Zs[i])+\"|\"\r\n",
        "        points_str=points_str[:-1]\r\n",
        "\r\n",
        "        src=self.disp_url+f\"func={self.f_str}&points={points_str}\"\r\n",
        "        return src\r\n",
        "    "
      ],
      "execution_count": 55,
      "outputs": []
    },
    {
      "cell_type": "code",
      "metadata": {
        "colab": {
          "base_uri": "https://localhost:8080/",
          "height": 620
        },
        "id": "MWL5LAMdLrtS",
        "outputId": "114eee67-e180-425c-cf7d-57bbd1d0e1dc"
      },
      "source": [
        "sizes = []\r\n",
        "for ix in [-15,0,15]:\r\n",
        "  for iy in [-15,0,15]:\r\n",
        "    sizes.append((50,ix,iy,5))\r\n",
        "\r\n",
        "grid_x = 30\r\n",
        "grid_y = 30\r\n",
        "\r\n",
        "G = Gaussian(sizes, grid_x, grid_y)\r\n",
        "\r\n",
        "Xs, Ys, Zs = G.train()\r\n",
        "\r\n",
        "src = G.display()\r\n",
        "\r\n",
        "IFrame(src=src, width=700, height=600)"
      ],
      "execution_count": 56,
      "outputs": [
        {
          "output_type": "execute_result",
          "data": {
            "text/html": [
              "\n",
              "        <iframe\n",
              "            width=\"700\"\n",
              "            height=\"600\"\n",
              "            src=\"https://i-learn-ml.oa.r.appspot.com/viewer/viewerGD.html#xmax=30&xmin=-30&ymax=30&ymin=-30&func=-50*e^(-((x+15)^2+(y+15)^2)/(2*5^2))-50*e^(-((x+15)^2+(y+0)^2)/(2*5^2))-50*e^(-((x+15)^2+(y-15)^2)/(2*5^2))-50*e^(-((x+0)^2+(y+15)^2)/(2*5^2))-50*e^(-((x+0)^2+(y+0)^2)/(2*5^2))-50*e^(-((x+0)^2+(y-15)^2)/(2*5^2))-50*e^(-((x-15)^2+(y+15)^2)/(2*5^2))-50*e^(-((x-15)^2+(y+0)^2)/(2*5^2))-50*e^(-((x-15)^2+(y-15)^2)/(2*5^2))&points=12.509181209439745,18.04577337765484,-38.57161966713659|13.884757751914751,15.67552885142562,-49.74251197393873|14.677436736325548,14.893757115103483,-51.155914193550906|14.803316146245857,14.822872961821076,-51.178718458693254|14.81507839044569,14.81680166615119,-51.17890914336594|14.816117836107098,14.816269357763291,-51.178910627103306|14.816209254155819,14.816222574417528,-51.178910638576355|14.816217290891478,14.81621846185566,-51.17891063866502|14.816217997390213,14.816218100327765,-51.178910638665705|14.816218059497375,14.816218068546448,-51.178910638665705|14.816218064957114,14.816218065752604,-51.17891063866571|14.816218065437072,14.816218065507002,-51.17891063866571|14.816218065479264,14.816218065485412,-51.17891063866571|14.816218065482973,14.816218065483513,-51.17891063866571|14.816218065483298,14.816218065483346,-51.17891063866571|14.816218065483326,14.816218065483332,-51.17891063866571|14.81621806548333,14.81621806548333,-51.17891063866571|14.81621806548333,14.81621806548333,-51.17891063866571|14.81621806548333,14.81621806548333,-51.17891063866571|14.81621806548333,14.81621806548333,-51.17891063866571|14.81621806548333,14.81621806548333,-51.17891063866571|14.81621806548333,14.81621806548333,-51.17891063866571|14.81621806548333,14.81621806548333,-51.17891063866571|14.81621806548333,14.81621806548333,-51.17891063866571|14.81621806548333,14.81621806548333,-51.17891063866571|14.81621806548333,14.81621806548333,-51.17891063866571|14.81621806548333,14.81621806548333,-51.17891063866571|14.81621806548333,14.81621806548333,-51.17891063866571|14.81621806548333,14.81621806548333,-51.17891063866571|14.81621806548333,14.81621806548333,-51.17891063866571|14.81621806548333,14.81621806548333,-51.17891063866571|14.81621806548333,14.81621806548333,-51.17891063866571|14.81621806548333,14.81621806548333,-51.17891063866571|14.81621806548333,14.81621806548333,-51.17891063866571|14.81621806548333,14.81621806548333,-51.17891063866571|14.81621806548333,14.81621806548333,-51.17891063866571|14.81621806548333,14.81621806548333,-51.17891063866571|14.81621806548333,14.81621806548333,-51.17891063866571|14.81621806548333,14.81621806548333,-51.17891063866571|14.81621806548333,14.81621806548333,-51.17891063866571|14.81621806548333,14.81621806548333,-51.17891063866571|14.81621806548333,14.81621806548333,-51.17891063866571|14.81621806548333,14.81621806548333,-51.17891063866571|14.81621806548333,14.81621806548333,-51.17891063866571|14.81621806548333,14.81621806548333,-51.17891063866571|14.81621806548333,14.81621806548333,-51.17891063866571|14.81621806548333,14.81621806548333,-51.17891063866571|14.81621806548333,14.81621806548333,-51.17891063866571|14.81621806548333,14.81621806548333,-51.17891063866571|14.81621806548333,14.81621806548333,-51.17891063866571|14.81621806548333,14.81621806548333,-51.17891063866571\"\n",
              "            frameborder=\"0\"\n",
              "            allowfullscreen\n",
              "        ></iframe>\n",
              "        "
            ],
            "text/plain": [
              "<IPython.lib.display.IFrame at 0x7fc725680940>"
            ]
          },
          "metadata": {
            "tags": []
          },
          "execution_count": 56
        }
      ]
    },
    {
      "cell_type": "code",
      "metadata": {
        "colab": {
          "base_uri": "https://localhost:8080/",
          "height": 620
        },
        "id": "82X-tkFXNOtz",
        "outputId": "6b61fdec-c619-47ba-f57c-d89702e4699a"
      },
      "source": [
        "Ro = Rosenbrock(lr=0.1**5, opt=SGD, grid_x=10, grid_y=10, epochs=100, x=5, y=-5)\r\n",
        "\r\n",
        "Xs, Ys, Zs = Ro.train()\r\n",
        "\r\n",
        "src = Ro.display()\r\n",
        "\r\n",
        "IFrame(src=src, width=700, height=600)"
      ],
      "execution_count": 57,
      "outputs": [
        {
          "output_type": "execute_result",
          "data": {
            "text/html": [
              "\n",
              "        <iframe\n",
              "            width=\"700\"\n",
              "            height=\"600\"\n",
              "            src=\"https://i-learn-ml.oa.r.appspot.com/viewer/viewerGD.html#xmax=10&xmin=-10&ymax=10&ymin=-10&func=(1-x)^2+100*(y-x^2)^2&points=5,-5,90016|4.4001,-4.94,59064.837606051784|3.972482793471996,-4.89139823998,42742.06758185825|3.644085303308185,-4.850054204411178,32874.54877904659|3.3798976911325718,-4.813795380606782,26371.316823736597|3.1604408829009634,-4.781320373040522,21819.09183587532|2.9737889490591063,-4.751780959145817,18486.84669493184|2.8121313828601635,-4.724590555800433,15961.727720788647|2.670088675427164,-4.699325208859898,13994.60059264178|2.543807378960391,-4.67566781137289,12427.10553865744|2.430438799691258,-4.653374563787637,11154.266437572714|2.3278217136754304,-4.632253749141973,10104.038648444755|2.234280454424269,-4.612151733782372,9225.514074519746|2.1484915842669707,-4.592943412016762,8481.812539598866|2.069393066158961,-4.574525493017396,7845.634665554549|1.9961207153358154,-4.556811666706828,7296.389185323195|1.9279626978199402,-4.5397290475530285,6818.284896359281|1.8643262848949393,-4.523215509129552,6399.0319839314925|1.8047131244927535,-4.507217653118193,6028.938775417537|1.7487005528295554,-4.491689238888524,5700.271287428462|1.695927268252349,-4.476589953163814,5406.791177087622|1.646082207145787,-4.4618844346590825,5143.417149189337|1.5988958050978863,-4.4475414925244,4905.973286942084|1.5541330587356517,-4.433533473948232,4690.999555053469|1.5115879635471288,-4.419835747871826,4495.607415256338|1.47107901494092,-4.406426280033001,4317.368609590716|1.4324455393320208,-4.393285280536536,4154.228626840436|1.3955446793431021,-4.3803949095291586,4004.438744760543|1.3602488990166093,-4.367739029806015,3866.502197626221|1.3264439057940967,-4.355302997611851,3739.131188907399|1.2940269090492413,-4.34307348474619,3621.2123056983223|1.2629051523214498,-4.331038326494011,3511.778496824252|1.2329946696073497,-4.319186390993503,3409.9862190815834|1.2042192262086269,-4.307507466500955,3315.096682863976|1.1765094124841098,-4.295992163678412,3226.460372031609|1.1498018649767734,-4.284631830555728,3143.504196079967|1.124038594197122,-4.273418478237208,3065.720771585458|1.0991664021503516,-4.262344715758244,2992.659436077652|1.0751363757252232,-4.251403692767496,2923.9186792340674|1.051903444490492,-4.240589048929145,2859.139739674887|1.0294259934011665,-4.229894869118225,2798.0011651044097|1.0076655225020843,-4.219315643628208,2740.214172400657|0.9865863470074236,-4.208846232730473,2685.518674955339|0.9661553321916377,-4.198481835024809,2633.679868962571|0.9463416583964985,-4.188217959102915,2584.485289846612|0.9271166121770222,-4.178050398115876,2537.742265673015|0.908453400204861,-4.1679752068944955,2493.2757070217826|0.890326983044133,-4.157988681320019,2450.926183046256|0.8727139263298545,-4.148087339683905,2410.5482417869075|0.8555922672277213,-4.1382679058101175,2372.008939636628|0.8389413943477143,-4.1285272937430175,2335.186550462934|0.8227419395323532,-4.118862593829231,2299.969429518479|0.806975680151123,-4.109271060043442,2266.2550111013916|0.79162545071191,-4.099750098426644,2233.9489221096287|0.7766750627533682,-4.090297256521361,2202.9641962877727|0.7621092321132062,-4.080910213702112,2173.2205761855444|0.7479135127799368,-4.071586772311363,2144.643891711891|0.7340742366325301,-4.062324849521543,2117.165505738656|0.7205784584560817,-4.053122469852725,2090.7218185343204|0.7074139056940056,-4.043977758283438,2065.2538239320666|0.6945689324600998,-4.034888933898932,2040.7067110912496|0.6820324773884655,-4.0258543040272565,2017.0295065248129|0.6697940249469039,-4.016872258818776,1994.1747517601032|0.6578435698810238,-4.007941266229429,1972.0982125956732|0.6461715844927396,-3.999059867372103,1950.758616427616|0.634768988488806,-3.990226672204147,1930.1174145587227|0.6236271211631487,-3.981440355522244,1910.1385667831264|0.6127377157015094,-3.972699653238699,1890.7883458670663|0.602092875418782,-3.9640033589157353,1872.0351598305906|0.5916850517587376,-3.9553503205366436,1853.8493901818388|0.5815070239029575,-3.946739437494621,1836.2032444702381|0.5715518798509793,-3.938169657781935,1819.0706217121967|0.5618129988471696,-3.929639975363649,1802.4269894064419|0.5522840350418492,-3.9211494277215744,1786.2492709992812|0.542958902284924,-3.912697093555407,1770.5157427856227|0.5338317599598457,-3.9042820906291555,1755.2059393418401|0.5248969997742889,-3.8959035737520136,1740.3005666836025|0.5161492334316089,-3.8875607328837654,1725.781422427344|0.5075832811140186,-3.8792527913556536,1711.6313223095372|0.49919416071461475,-3.8709790041984093,1697.834032484745|0.4909770777609378,-3.8627386565698294,1684.3742070825751|0.48292741597776556,-3.8545310622749165,1671.237330556132|0.4750407284413565,-3.846355562372161,1658.409664401203|0.4673127292814399,-3.8382115238600605,1645.8781978668744|0.45973928589094104,-3.8300983384384435,1633.630602315258|0.4523164116067678,-3.8220154213395836,1621.6551889209666|0.44504025882801523,-3.813962210224487,1609.9408694304561|0.4379071125406893,-3.8059381641400822,1598.4771197276991|0.4309133842205471,-3.7979427625333746,1587.253945976279|0.42405560608792114,-3.789975504318907,1576.2618531291632|0.41733042569045986,-3.78203590699616,1565.491815616434|0.41073460079159907,-3.774123505813754,1554.9352500383686|0.40426499454429743,-3.7662378529775515,1544.5839897066312|0.3979185709311366,-3.7583785168999686,1534.4302608902328|0.3916923904533194,-3.750545081487985,1524.4666606354247|0.385583606052412,-3.742737145467531,1514.6861360399905|0.37958945924987614,-3.734954321742083,1505.08196487264|0.37370727649053814,-3.7271962367834517,1495.647737437444|0.3679344656771516,-3.7194625300528807,1486.3773395916478|0.36226851288413753,-3.711752853450709,1477.2649368328034|0.35670697923943817,-3.704066870792953,1468.3049593780636\"\n",
              "            frameborder=\"0\"\n",
              "            allowfullscreen\n",
              "        ></iframe>\n",
              "        "
            ],
            "text/plain": [
              "<IPython.lib.display.IFrame at 0x7fc714ff1ba8>"
            ]
          },
          "metadata": {
            "tags": []
          },
          "execution_count": 57
        }
      ]
    },
    {
      "cell_type": "code",
      "metadata": {
        "colab": {
          "base_uri": "https://localhost:8080/",
          "height": 620
        },
        "id": "l4K9bs90NZPZ",
        "outputId": "703f22b9-b52f-4a60-a205-dbbf689d8c9b"
      },
      "source": [
        "Ra = Rastrigin()\r\n",
        "\r\n",
        "Xs, Ys, Zs = Ra.train()\r\n",
        "\r\n",
        "src = Ra.display()\r\n",
        "\r\n",
        "IFrame(src=src, width=700, height=600)"
      ],
      "execution_count": 58,
      "outputs": [
        {
          "output_type": "execute_result",
          "data": {
            "text/html": [
              "\n",
              "        <iframe\n",
              "            width=\"700\"\n",
              "            height=\"600\"\n",
              "            src=\"https://i-learn-ml.oa.r.appspot.com/viewer/viewerGD.html#xmax=6&xmin=-6&ymax=6&ymin=-6&func=20+x^2-10*cos(6.283185307179586*x)+y^2-10*cos(6.283185307179586*y)&points=0.5417997910670467,5.0114603568420435,45.09128615926829|0.5433227150232328,5.0100060189033115,45.04692141227456|0.5449033197901207,5.00860925608218,45.002343145647984|0.5465436263898956,5.0072678201542535,44.957292210857574|0.5482457073446189,5.005979544260351,44.91150973582671|0.5500116855933647,5.0047423409379155,44.86473598166569|0.5518437330394369,5.003554200056788,44.816709241345684|0.5537440686826733,5.0024131866849535,44.76716478409202|0.5557149562881052,5.001317438906273,44.715833850094505|0.5577587015384148,5.000265165609143,44.66244270113853|0.5598776486137842,4.999254644262212,44.60671173394492|0.5620741761389154,4.998284218690878,44.54835466436476|0.5643506924333188,4.997352296866126,44.48707779209908|0.5667096299975157,4.996457348715398,44.4225793572922|0.5691534391647133,4.9955979039635405,44.354549002166934|0.5716845808449397,4.99477255001043,44.28266735280816|0.5743055182867626,4.993979929850658,44.20660573823106|0.5770187077807645,4.993218740039539,44.12602606595183|0.5798265882291667,4.992487728708803,44.04058087536293|0.5827315695076577,4.991785693634511,43.94991359223621|0.5857360195489105,4.991111480359033,43.853659009556466|0.5888422500828118,4.9904639803683635,43.75144402152432|0.5920525009764523,4.989842129325513,43.64288863884373|0.5953689231278396,4.989244905360304,43.52760731418422|0.5987935598815017,4.988671327415531,43.40521060682015|0.6023283269520683,4.988120453649155,43.2753072147172|0.6059749908639277,4.987591379891931,43.137506400559815|0.6097351459415244,4.987083238159674,42.991420835179305|0.6136101899160514,4.98659519521919,42.836669877334266|0.6176012982503915,4.986126451206773,42.67288330259687|0.6217093973251973,4.985676238298056,42.49970548601907|0.625935136674823,4.985243819427904,42.31680003313108|0.6302788605120422,4.984828487059011,42.12385484156263|0.6347405788344422,4.984429561997783,41.92058756115392|0.6393199384620881,4.984046392256073,41.706751403930326|0.6440161944141302,4.983678351957332,41.48214123697481|0.6488281820897673,4.983324840285701,41.24659987143114|0.6537542907742075,4.98298528047661,41.00002444017631|0.6587924390404775,4.982659118847434,40.74237273587332|0.6639400526602565,4.982345823866784,40.473669361114176|0.6691940456682244,4.98204488526104,40.194011524325724|0.6745508052414705,4.981755813156742,39.90357430032428|0.6800061810550796,4.9814781372575085,39.60261516424503|0.6855554797541019,4.981211406054162,39.291477603425506|0.6911934651381888,4.980955186066793,38.9705936149868|0.6969143645864203,4.98070906111752,38.64048490841981|0.7027118821554135,4.980472631632751,38.30176265320264|0.7085792186640397,4.980245513973772,37.95512564164282|0.7145090989347285,4.980027339794547,37.60135677648794|0.7204938061976444,4.979817755425635,37.241317840463175|0.7265252234847436,4.979616421283181,36.87594255919392\"\n",
              "            frameborder=\"0\"\n",
              "            allowfullscreen\n",
              "        ></iframe>\n",
              "        "
            ],
            "text/plain": [
              "<IPython.lib.display.IFrame at 0x7fc714ff1978>"
            ]
          },
          "metadata": {
            "tags": []
          },
          "execution_count": 58
        }
      ]
    },
    {
      "cell_type": "code",
      "metadata": {
        "colab": {
          "base_uri": "https://localhost:8080/",
          "height": 620
        },
        "id": "gFjThc4VNopn",
        "outputId": "51de4d0d-1dc0-4298-f8aa-82a476d4350b"
      },
      "source": [
        "Hi = Himmelblau(opt=Newton, lr=0.25, x=5, y=5, epochs=40)\r\n",
        "\r\n",
        "Xs, Ys, Zs = Hi.train()\r\n",
        "\r\n",
        "src = Hi.display()\r\n",
        "\r\n",
        "IFrame(src=src, width=700, height=600)"
      ],
      "execution_count": 98,
      "outputs": [
        {
          "output_type": "execute_result",
          "data": {
            "text/html": [
              "\n",
              "        <iframe\n",
              "            width=\"700\"\n",
              "            height=\"600\"\n",
              "            src=\"https://i-learn-ml.oa.r.appspot.com/viewer/viewerGD.html#xmax=6&xmin=-6&ymax=6&ymin=-6&func=(x^2+y-11)^2+(x+y^2-7)^2&points=5,5,890|4.671404682274248,4.6212374581939795,600.5301280717243|4.381996478286363,4.2802387340289165,402.3702410627649|4.129286881315465,3.9741682155561993,267.5158811907303|3.9108989537925685,3.700386179638332,176.36794795915944|3.7244886802235553,3.4564203356354035,115.2385419515743|3.56766245278415,3.239943326405866,74.59534524619458|3.437902407056369,3.048758037788336,47.82620685576262|3.332517098891799,2.8807909142749923,30.369495841526067|3.248636458214819,2.7340905885555746,19.101046309061445|3.1832630369541004,2.606826230767805,11.90084987087931|3.1333759230379608,2.497279239799108,7.3459319961062794|3.096065387323871,2.4038247880388894,4.492524295766216|3.068665296164137,2.3249055250672304,2.722225452527232|3.0488529312641663,2.259005293516068,1.6344876566749265|3.03469974053226,2.204632620382389,0.9726375736358879|3.024673177919891,2.160320822112616,0.5738541237101062|3.017601517625745,2.124645429927345,0.3358857802858383|3.0126177585651077,2.096253477835922,0.1951897136480202|3.0090971261418935,2.073895788007617,0.11271536506756412|3.0065982755063456,2.056453746072553,0.06474019374338091|3.0048135694945373,2.042955222986275,0.03701880447290898|3.003530081515368,2.0325782958955094,0.021090600869805295|3.002600656303747,2.024644545251301,0.011980913531648504|3.0019232822364468,2.0186052447289278,0.006790360272485069|3.0014267921922833,2.014023898523233,0.0038416478755509227|3.0010611213952605,2.010557904358352,0.002170406594994057|3.000790725233107,2.0079411879419533,0.0012249078888786394|3.0005901367632415,2.005968809723994,0.0006907388083966358|3.0004409546605335,2.0044839239637438,0.0003892753438516647|3.0003297836567486,2.0033670798740566,0.00021927918961048317|3.0002468110101534,2.0025276459637475,0.0001234766728995461|3.0001848109977303,2.001897052348465,6.951155654127047e-05|3.0001384406272527,2.0014235321954255,3.912390442672133e-05|3.0001037360090277,2.001068067736712,2.2017194033135007e-05|3.0000777487983843,2.000801286551255,1.2388895433717475e-05|3.000058281637857,2.0006010976454367,6.9705374864308605e-06|3.0000436943621813,2.000450897947938,3.921680478957886e-06|3.0000327612788222,2.0003382155095104,2.206263191670185e-06|3.000024565617057,2.00025368529374,1.2411572289791035e-06|3.0000184212068914,2.000190277283882,6.982075690994923e-07\"\n",
              "            frameborder=\"0\"\n",
              "            allowfullscreen\n",
              "        ></iframe>\n",
              "        "
            ],
            "text/plain": [
              "<IPython.lib.display.IFrame at 0x7fc7150132b0>"
            ]
          },
          "metadata": {
            "tags": []
          },
          "execution_count": 98
        }
      ]
    },
    {
      "cell_type": "code",
      "metadata": {
        "colab": {
          "base_uri": "https://localhost:8080/",
          "height": 620
        },
        "id": "MgEQ6EHKRdOT",
        "outputId": "b97ba92b-da02-4cdc-ae02-e2375a53737b"
      },
      "source": [
        "src2 = Hi.display2()\r\n",
        "\r\n",
        "IFrame(src=src2, width=700, height=600)"
      ],
      "execution_count": 100,
      "outputs": [
        {
          "output_type": "execute_result",
          "data": {
            "text/html": [
              "\n",
              "        <iframe\n",
              "            width=\"700\"\n",
              "            height=\"600\"\n",
              "            src=\"https://i-learn-ml.oa.r.appspot.com/viewer/viewerGD.html#xmax=6&xmin=-6&ymax=6&ymin=-6&func=(x^2+y-11)^2+(x+y^2-7)^2&points=5,5,890|4.671404682274248,4.6212374581939795,600.5301280717243|4.381996478286363,4.2802387340289165,402.3702410627649|4.129286881315465,3.9741682155561993,267.5158811907303|3.9108989537925685,3.700386179638332,176.36794795915944|3.7244886802235553,3.4564203356354035,115.2385419515743|3.56766245278415,3.239943326405866,74.59534524619458|3.437902407056369,3.048758037788336,47.82620685576262|3.332517098891799,2.8807909142749923,30.369495841526067|3.248636458214819,2.7340905885555746,19.101046309061445|3.1832630369541004,2.606826230767805,11.90084987087931|3.1333759230379608,2.497279239799108,7.3459319961062794|3.096065387323871,2.4038247880388894,4.492524295766216|3.068665296164137,2.3249055250672304,2.722225452527232|3.0488529312641663,2.259005293516068,1.6344876566749265|3.03469974053226,2.204632620382389,0.9726375736358879|3.024673177919891,2.160320822112616,0.5738541237101062|3.017601517625745,2.124645429927345,0.3358857802858383|3.0126177585651077,2.096253477835922,0.1951897136480202|3.0090971261418935,2.073895788007617,0.11271536506756412|3.0065982755063456,2.056453746072553,0.06474019374338091|3.0048135694945373,2.042955222986275,0.03701880447290898|3.003530081515368,2.0325782958955094,0.021090600869805295|3.002600656303747,2.024644545251301,0.011980913531648504|3.0019232822364468,2.0186052447289278,0.006790360272485069|3.0014267921922833,2.014023898523233,0.0038416478755509227|3.0010611213952605,2.010557904358352,0.002170406594994057|3.000790725233107,2.0079411879419533,0.0012249078888786394|3.0005901367632415,2.005968809723994,0.0006907388083966358|3.0004409546605335,2.0044839239637438,0.0003892753438516647|3.0003297836567486,2.0033670798740566,0.00021927918961048317|3.0002468110101534,2.0025276459637475,0.0001234766728995461|3.0001848109977303,2.001897052348465,6.951155654127047e-05|3.0001384406272527,2.0014235321954255,3.912390442672133e-05|3.0001037360090277,2.001068067736712,2.2017194033135007e-05|3.0000777487983843,2.000801286551255,1.2388895433717475e-05|3.000058281637857,2.0006010976454367,6.9705374864308605e-06|3.0000436943621813,2.000450897947938,3.921680478957886e-06|3.0000327612788222,2.0003382155095104,2.206263191670185e-06|3.000024565617057,2.00025368529374,1.2411572289791035e-06|3.0000184212068914,2.000190277283882,6.982075690994923e-07&curves=890+0.5*(x-5)*((x-5)*278+(y-5)*40)+(y-5)*((x-5)*40+(y-5)*294)+((x-5)*426+(y-5)*498)|600.5301280717243+0.5*(x-4.671404682274248)*((x-4.671404682274248)*238.34921029966108+(y-4.6212374581939795)*37.17056856187291)+(y-4.6212374581939795)*((x-4.671404682274248)*37.17056856187291+(y-4.6212374581939795)*248.9556464692788)+((x-4.671404682274248)*326.62133332337606+(y-4.6212374581939795)*382.60410123365085)|402.3702410627649+0.5*(x-4.381996478286363)*((x-4.381996478286363)*205.54367256468475+(y-4.2802387340289165)*34.64894084926112)+(y-4.2802387340289165)*((x-4.381996478286363)*34.64894084926112+(y-4.2802387340289165)*211.37330935652298)+((x-4.381996478286363)*250.19151177601503+(y-4.2802387340289165)*293.80503305412145)|267.5158811907303+0.5*(x-4.129286881315465)*((x-4.129286881315465)*178.50879464067273+(y-3.9741682155561993)*32.41382038748665)+(y-3.9741682155561993)*((x-4.129286881315465)*32.41382038748665+(y-3.9741682155561993)*180.0453035917076)+((x-4.129286881315465)*191.4339497749957+(y-3.9741682155561993)*225.4878273292431)|176.36794795915944+0.5*(x-3.9108989537925685)*((x-3.9108989537925685)*156.343112239863+(y-3.700386179638332)*30.445140533723603)+(y-3.700386179638332)*((x-3.9108989537925685)*30.445140533723603+(y-3.700386179638332)*153.95789035667073)+((x-3.9108989537925685)*146.28614691744568+(y-3.700386179638332)*172.94301455005595)|115.2385419515743+0.5*(x-3.7244886802235553)*((x-3.7244886802235553)*138.2874724919024+(y-3.4564203356354035)*28.723636063435833)+(y-3.4564203356354035)*((x-3.7244886802235553)*28.723636063435833+(y-3.4564203356354035)*132.2600531600217)+((x-3.7244886802235553)*111.62043776898348+(y-3.4564203356354035)*132.54352092316878)|74.59534524619458+0.5*(x-3.56766245278415)*((x-3.56766245278415)*123.69835782969326+(y-3.239943326405866)*27.230423116760065)+(y-3.239943326405866)*((x-3.56766245278415)*27.230423116760065+(y-3.239943326405866)*114.2374429109995)+((x-3.56766245278415)*85.0286434847507+(y-3.239943326405866)*101.49575777074271)|47.82620685576262+0.5*(x-3.437902407056369)*((x-3.437902407056369)*112.02510767648104+(y-3.048758037788336)*25.94664177937882)+(y-3.048758037788336)*((x-3.437902407056369)*25.94664177937882+(y-3.048758037788336)*99.2907165039733)+((x-3.437902407056369)*64.65593311667392+(y-3.048758037788336)*77.64788353002724)|30.369495841526067+0.5*(x-3.332517098891799)*((x-3.332517098891799)*102.7912062299745+(y-2.8807909142749923)*24.853232052667167)+(y-2.8807909142749923)*((x-3.332517098891799)*24.853232052667167+(y-2.8807909142749923)*86.91754389679936)+((x-3.332517098891799)*49.072677887345556+(y-2.8807909142749923)*59.34214811145449)|19.101046309061445+0.5*(x-3.248636458214819)*((x-3.248636458214819)*95.58002840593255+(y-2.7340905885555746)*23.930908187081574)+(y-2.7340905885555746)*((x-3.248636458214819)*23.930908187081574+(y-2.7340905885555746)*76.6975619899973)+((x-3.248636458214819)*37.17578049119799+(y-2.7340905885555746)*45.30124525044128)|11.90084987087931+0.5*(x-3.1832630369541004)*((x-3.1832630369541004)*90.02526767233016+(y-2.606826230767805)*23.16035707088762)+(y-2.606826230767805)*((x-3.1832630369541004)*23.16035707088762+(y-2.606826230767805)*68.27956811684538)+((x-3.1832630369541004)*28.11299284230725+(y-2.606826230767805)*34.540898413505836)|7.3459319961062794+0.5*(x-3.1333759230379608)*((x-3.1333759230379608)*85.80565306008434+(y-2.497279239799108)*22.522620651348277)+(y-2.497279239799108)*((x-3.1333759230379608)*22.522620651348277+(y-2.497279239799108)*61.37034691053117)+((x-3.1333759230379608)*21.225176192576747+(y-2.497279239799108)*26.302652668180563)|4.492524295766216+0.5*(x-3.096065387323871)*((x-3.096065387323871)*82.6427497431745+(y-2.4038247880388894)*21.999560701451042)+(y-2.4038247880388894)*((x-3.096065387323871)*21.999560701451042+(y-2.4038247880388894)*55.72474488837803)+((x-3.096065387323871)*16.002431971651397+(y-2.4038247880388894)*20.002183058273502)|2.722225452527232+0.5*(x-3.068665296164137)*((x-3.068665296164137)*80.30010249885449+(y-2.3249055250672304)*21.57428328492547)+(y-2.3249055250672304)*((x-3.068665296164137)*21.57428328492547+(y-2.3249055250672304)*51.13688959051417)+((x-3.068665296164137)*12.050740784957238+(y-2.3249055250672304)*15.189481750869554)|1.6344876566749265+0.5*(x-3.0488529312641663)*((x-3.0488529312641663)*78.58207153180146+(y-2.259005293516068)*21.23143289912094)+(y-2.259005293516068)*((x-3.0488529312641663)*21.23143289912094+(y-2.259005293516068)*47.43267071866006)+((x-3.0488529312641663)*9.066387230725628+(y-2.259005293516068)*11.518134480704205)|0.9726375736358879+0.5*(x-3.03469974053226)*((x-3.03469974053226)*77.33136066376838+(y-2.204632620382389)*20.957329443658598)+(y-2.204632620382389)*((x-3.03469974053226)*20.957329443658598+(y-2.204632620382389)*44.46365885237847)+((x-3.03469974053226)*6.816098736702173+(y-2.204632620382389)*8.72157862903003)|0.5738541237101062+0.5*(x-3.024673177919891)*((x-3.024673177919891)*76.42505728718663+(y-2.160320822112616)*20.739976000130028)+(y-2.160320822112616)*((x-3.024673177919891)*20.739976000130028+(y-2.160320822112616)*42.10252536511949)+((x-3.024673177919891)*5.121435283253533+(y-2.160320822112616)*6.594760676690427)|0.3358857802858383+0.5*(x-3.017601517625745)*((x-3.017601517625745)*75.76960874983577+(y-2.124645429927345)*20.56898779021236)+(y-2.124645429927345)*((x-3.017601517625745)*20.56898779021236+(y-2.124645429927345)*40.239824505436815)+((x-3.017601517625745)*3.8464447601468486+(y-2.124645429927345)*4.979992195172944)|0.1951897136480202+0.5*(x-3.0126177585651077)*((x-3.0126177585651077)*75.29540302200593+(y-2.096253477835922)*20.435484945604117)+(y-2.096253477835922)*((x-3.0126177585651077)*20.435484945604117+(y-2.096253477835922)*38.781814754330796)+((x-3.0126177585651077)*2.8879106844123292+(y-2.096253477835922)*3.7560704645588388)|0.11271536506756412+0.5*(x-3.0090971261418935)*((x-3.0090971261418935)*74.9515693266953+(y-2.073895788007617)*20.331971656598043)+(y-2.073895788007617)*((x-3.0090971261418935)*20.331971656598043+(y-2.073895788007617)*37.648913378756404)+((x-3.0090971261418935)*2.1676955156170195+(y-2.073895788007617)*2.829921945031618)|0.06474019374338091+0.5*(x-3.0065982755063456)*((x-3.0065982755063456)*74.70141326762298+(y-2.056453746072553)*20.252208086315594)+(y-2.056453746072553)*((x-3.0065982755063456)*20.252208086315594+(y-2.056453746072553)*36.774417218855405)+((x-3.0065982755063456)*1.6267798390021717+(y-2.056453746072553)*2.130178229348754)|0.03701880447290898+0.5*(x-3.0048135694945373)*((x-3.0048135694945373)*74.51867594096713+(y-2.042955222986275)*20.19107516992325)+(y-2.042955222986275)*((x-3.0048135694945373)*20.19107516992325+(y-2.042955222986275)*36.10324679550095)+((x-3.0048135694945373)*1.2206605588652+(y-2.042955222986275)*1.6022230480156878)|0.021090600869805295+0.5*(x-3.003530081515368)*((x-3.003530081515368)*74.38462859039458+(y-2.0325782958955094)*20.14443350964351)+(y-2.0325782958955094)*((x-3.003530081515368)*20.14443350964351+(y-2.0325782958955094)*35.59061467340739)+((x-3.003530081515368)*0.9158234460131851+(y-2.0325782958955094)*1.204359225882385)|0.011980913531648504+0.5*(x-3.002600656303747)*((x-3.002600656303747)*74.28590659583351+(y-2.024644545251301)*20.108980806220192)+(y-2.024644545251301)*((x-3.002600656303747)*20.108980806220192+(y-2.024644545251301)*35.20062904060515)+((x-3.002600656303747)*0.6870540999252412+(y-2.024644545251301)*0.9048339178830354)|0.006790360272485069+0.5*(x-3.0019232822364468)*((x-3.0019232822364468)*74.21294168811461+(y-2.0186052447289278)*20.0821141078615)+(y-2.0186052447289278)*((x-3.0019232822364468)*20.0821141078615+(y-2.0186052447289278)*34.9048987375114)+((x-3.0019232822364468)*0.5153964158664177+(y-2.0186052447289278)*0.6795279804462631)|0.0038416478755509227+0.5*(x-3.0014267921922833)*((x-3.0014267921922833)*74.15884906076884+(y-2.014023898523233)*20.061802762862065)+(y-2.014023898523233)*((x-3.0014267921922833)*20.061802762862065+(y-2.014023898523233)*34.681214334641794)+((x-3.0014267921922833)*0.38660726702170933+(y-2.014023898523233)*0.5101636076834666)|0.002170406594994057+0.5*(x-3.0010611213952605)*((x-3.0010611213952605)*74.11864586963554+(y-2.010557904358352)*20.04647610301445)+(y-2.010557904358352)*((x-3.0010611213952605)*20.04647610301445+(y-2.010557904358352)*34.51236152691523)+((x-3.0010611213952605)*0.289989361987379+(y-2.010557904358352)*0.3829182127165076)|0.0012249078888786394+0.5*(x-3.000790725233107)*((x-3.000790725233107)*74.08870447150827+(y-2.0079411879419533)*20.03492765270024)+(y-2.0079411879419533)*((x-3.000790725233107)*20.03492765270024+(y-2.0079411879419533)*34.38509667173734)+((x-3.000790725233107)*0.2175111790594002+(y-2.0079411879419533)*0.2873567647179698)|0.0006907388083966358+0.5*(x-3.0005901367632415)*((x-3.0005901367632415)*74.06636926498618+(y-2.005968809723994)*20.02623578594894)+(y-2.005968809723994)*((x-3.0005901367632415)*20.02623578594894+(y-2.005968809723994)*34.28929093407893)+((x-3.0005901367632415)*0.16314419622746712+(y-2.005968809723994)*0.21561294320385826)|0.0003892753438516647+0.5*(x-3.0004409546605335)*((x-3.0004409546605335)*74.04968676470556+(y-2.0044839239637438)*20.01969951449711)+(y-2.0044839239637438)*((x-3.0004409546605335)*20.01969951449711+(y-2.0044839239637438)*34.21723343579118)+((x-3.0004409546605335)*0.12236424435067583+(y-2.0044839239637438)*0.16176370007481822)|0.00021927918961048317+0.5*(x-3.0003297836567486)*((x-3.0003297836567486)*74.03721404786926+(y-2.0033670798740566)*20.014787454123223)+(y-2.0033670798740566)*((x-3.0003297836567486)*20.014787454123223+(y-2.0033670798740566)*34.16307501530425)+((x-3.0003297836567486)*0.09177661957077277+(y-2.0033670798740566)*0.12135329413754548)|0.0001234766728995461+0.5*(x-3.0002468110101534)*((x-3.0002468110101534)*74.02788170757414+(y-2.0025276459637475)*20.011097827895604)+(y-2.0025276459637475)*((x-3.0002468110101534)*20.011097827895604+(y-2.0025276459637475)*34.12239091822991)+((x-3.0002468110101534)*0.06883440044238398+(y-2.0025276459637475)*0.09103220066054618)|6.951155654127047e-05+0.5*(x-3.0001848109977303)*((x-3.0001848109977303)*74.0208950110917+(y-2.001897052348465)*20.00832745338478)+(y-2.001897052348465)*((x-3.0001848109977303)*20.00832745338478+(y-2.001897052348465)*34.0918409424086)+((x-3.0001848109977303)*0.051626890410144455+(y-2.001897052348465)*0.06828386918839158)|3.912390442672133e-05+0.5*(x-3.0001384406272527)*((x-3.0001384406272527)*74.01566208393356+(y-2.0014235321954255)*20.006247891290712)+(y-2.0014235321954255)*((x-3.0001384406272527)*20.006247891290712+(y-2.0014235321954255)*34.06890762521637)+((x-3.0001384406272527)*0.03872078149146674+(y-2.0014235321954255)*0.051218380012599596)|2.2017194033135007e-05+0.5*(x-3.0001037360090277)*((x-3.0001037360090277)*74.01174139273076+(y-2.001068067736712)*20.004687214982958)+(y-2.001068067736712)*((x-3.0001037360090277)*20.004687214982958+(y-2.001068067736712)*34.05169588462256)+((x-3.0001037360090277)*0.029040931534224157+(y-2.001068067736712)*0.03841687126164928)|1.2388895433717475e-05+0.5*(x-3.0000777487983843)*((x-3.0000777487983843)*74.00880313222719+(y-2.000801286551255)*20.003516141398556)+(y-2.000801286551255)*((x-3.0000777487983843)*20.003516141398556+(y-2.000801286551255)*34.038780454375434)+((x-3.0000777487983843)*0.021780893039471394+(y-2.000801286551255)*0.028814391497569147)|6.9705374864308605e-06+0.5*(x-3.000058281637857)*((x-3.000058281637857)*74.00660070926845+(y-2.0006010976454367)*20.002637517133174)+(y-2.0006010976454367)*((x-3.000058281637857)*20.002637517133174+(y-2.0006010976454367)*34.029090149352946)+((x-3.000058281637857)*0.0163357791625085+(y-2.0006010976454367)*0.021611772137166696)|3.921680478957886e-06+0.5*(x-3.0000436943621813)*((x-3.0000436943621813)*74.00494960877917+(y-2.000450897947938)*20.001978369240476)+(y-2.000450897947938)*((x-3.0000436943621813)*20.001978369240476+(y-2.000450897947938)*34.02182031865727)+((x-3.0000436943621813)*0.012251895916318034+(y-2.000450897947938)*0.016209379880422148)|2.206263191670185e-06+0.5*(x-3.0000327612788222)*((x-3.0000327612788222)*74.00371168699287+(y-2.0003382155095104)*20.00148390715333)+(y-2.0003382155095104)*((x-3.0000327612788222)*20.00148390715333+(y-2.0003382155095104)*34.01636676224856)+((x-3.0000327612788222)*0.009188956562990569+(y-2.0003382155095104)*0.012157344876182918)|1.2411572289791035e-06+0.5*(x-3.000024565617057)*((x-3.000024565617057)*74.00278347284468+(y-2.00025368529374)*20.001113003643187)+(y-2.00025368529374)*((x-3.000024565617057)*20.001113003643187+(y-2.00025368529374)*34.01227592884247)+((x-3.000024565617057)*0.006891736902183254+(y-2.00025368529374)*0.009118183077752917)\"\n",
              "            frameborder=\"0\"\n",
              "            allowfullscreen\n",
              "        ></iframe>\n",
              "        "
            ],
            "text/plain": [
              "<IPython.lib.display.IFrame at 0x7fc7150116a0>"
            ]
          },
          "metadata": {
            "tags": []
          },
          "execution_count": 100
        }
      ]
    },
    {
      "cell_type": "code",
      "metadata": {
        "colab": {
          "base_uri": "https://localhost:8080/",
          "height": 620
        },
        "id": "1BfEl7wYLgkh",
        "outputId": "08a4a559-500f-4f3d-9035-4997ec4b4741"
      },
      "source": [
        "Be = Beale(opt=MomentumSGD, lr=0.000001, x=4, y=4)\r\n",
        "\r\n",
        "Xs, Ys, Zs = Be.train()\r\n",
        "\r\n",
        "src = Be.display()\r\n",
        "\r\n",
        "IFrame(src=src, width=700, height=600)"
      ],
      "execution_count": 62,
      "outputs": [
        {
          "output_type": "execute_result",
          "data": {
            "text/html": [
              "\n",
              "        <iframe\n",
              "            width=\"700\"\n",
              "            height=\"600\"\n",
              "            src=\"https://i-learn-ml.oa.r.appspot.com/viewer/viewerGD.html#xmax=4&xmin=-4&ymax=4&ymin=-4&func=(1.5-x+x*y)^2+(2.25-x+x*y^2)^2+(2.625-x+x*y^3)^2&points=4,4,68891.203125|3.96596875,3.898131997792,58155.6757831691|3.9063987393327877,3.7182680217074067,42701.66837830133|3.8312610859727134,3.4885953086823456,28219.783482028106|3.7491886660767393,3.234226482054738,17324.10841215418|3.666311175839,2.973810125351264,10134.929872321645|3.586374540242332,2.719464107326166,5757.872320146965|3.511362792604096,2.4781897663430805,3219.042621356777|3.44212903305291,2.253489118759167,1787.0200342898563|3.37886552130925,2.0466675795996676,991.0253818773592|3.321407414349711,1.85773792431625,551.1917948102588|3.269413781466128,1.685999173898653,308.20997432177484|3.2224699197939013,1.5303895900617703,173.49284480527677|3.1801427806381963,1.3896945933848663,98.34202659102246|3.1420096401474162,1.2626654880559376,56.09452956616391|3.1076719295684874,1.1480847695788619,32.140089880349905|3.0767610168457757,1.0448000011808136,18.439994534050463|3.0489397255997313,0.9517394653830625,10.542815841737053|3.0239016718595972,0.867917420580751,5.963500243279578|3.001369549046471,0.7924335678732879,3.301627192057582|2.981092968393041,0.7244694208515557,1.7597491476536682|2.962846175532986,0.6632831429896885,0.8786732347392583|2.946425807909094,0.6082037535597746,0.3908753909273559|2.9316487730125664,0.5586252128499346,0.13862480257845006|2.9183502819133706,0.5140006683398645,0.027812457695020602|2.9063820483535383,0.4738370091908281,0.0016429973132220418|2.8956106511560296,0.4376897980609181,0.02547831310663647|2.8859160515409403,0.4051586039916831,0.07800394039447027|2.8771902542253773,0.3758827344408196,0.1460180868238226|2.869336100312854,0.34953735047534906,0.22131925276627634|2.8622661800726035,0.3258299419490021,0.2988236199024751|2.855901854285585,0.3044971363393888,0.37541169613419656|2.8501723736280793,0.2853018141238657,0.44921271682861424|2.8450140864327937,0.26803050411389806,0.5191551036492268|2.840369726035872,0.25249103343783286,0.5846806673636236|2.836187769747749,0.23851040849710403,0.6455608608668096|2.8324218622587973,0.22593290500428692,0.7017774323577711|2.829030297000573,0.214618347015896,0.7534442216480576|2.8259755496297676,0.20444055662560767,0.8007555575072717|2.823223858387243,0.1952859576450286,0.8439520520073736|2.8207448466128153,0.18705231814966652,0.883297895631962|2.8185111831723826,0.17964761819995406,0.9190658306165326|2.8164982769822444,0.17298903036078098,0.951527295211732|2.814684002200524,0.16700200184191957,0.9809460754600366|2.8130484510017477,0.16161942817216904,1.0075743488354865|2.81157371116171,0.1567809093093106,1.0316503637277854|2.810243665959317,0.15243207998378056,1.053397237551605|2.809043814153333,0.1485240068840474,1.07302251659618|2.8079611080177647,0.1450126460234702,1.0907182495506422|2.806983807622567,0.14185835428897062,1.1066614012701537|2.8061013497288045,0.13902544976774747,1.121014485037006\"\n",
              "            frameborder=\"0\"\n",
              "            allowfullscreen\n",
              "        ></iframe>\n",
              "        "
            ],
            "text/plain": [
              "<IPython.lib.display.IFrame at 0x7fc725eda8d0>"
            ]
          },
          "metadata": {
            "tags": []
          },
          "execution_count": 62
        }
      ]
    },
    {
      "cell_type": "code",
      "metadata": {
        "colab": {
          "base_uri": "https://localhost:8080/",
          "height": 620
        },
        "id": "axbSouafWczF",
        "outputId": "e386d3ea-56d8-41b3-ff3f-081b1372d290"
      },
      "source": [
        "Abs = Absfunc(opt=MomentumSGD, lr=0.1, x=10, y=0.5)\r\n",
        "\r\n",
        "Xs, Ys, Zs = Abs.train()\r\n",
        "\r\n",
        "src = Abs.display()\r\n",
        "\r\n",
        "IFrame(src=src, width=700, height=600)"
      ],
      "execution_count": 82,
      "outputs": [
        {
          "output_type": "execute_result",
          "data": {
            "text/html": [
              "\n",
              "        <iframe\n",
              "            width=\"700\"\n",
              "            height=\"600\"\n",
              "            src=\"https://i-learn-ml.oa.r.appspot.com/viewer/viewerGD.html#xmax=10&xmin=-10&ymax=10&ymin=-10&func=abs(x)+abs(y)&points=10,0.5,10.5|9.9,0.4,10.3|9.71,0.21000000000000002,9.920000000000002|9.439,-0.061,9.5|9.0951,-0.20490000000000003,9.3|8.685590000000001,-0.23441000000000006,8.920000000000002|8.217031,-0.16096900000000008,8.378|7.6953279000000006,0.0051278999999999075,7.7004558|7.12579511,0.05461510999999991,7.180410220000001|6.5132155990000005,-0.0008464010000000868,6.514062000000001|5.8618940391,0.04923823909999992,5.9111322782|5.17570463519,-0.005685584810000074,5.18139022|4.4581341716709995,0.044882973670999936,4.503017145342|3.7123207545038994,-0.009605323696100058,3.7219260781999997|2.941088679053509,0.041355208673509954,2.982443887727019|2.146979811148158,-0.012780312193841042,2.159760123341999|1.332281830033342,0.03849771902554307,1.3707795490588852|0.49905364703000776,-0.01535205287701124,0.514405699907019|-0.35085171767299317,0.03618315241068989,0.38703487008368304|-1.0157665459056942,-0.017435162830379103,1.0332017087360732|-1.5141898913151248,0.03430835345265881,1.5484982447677837|-1.8627709021836125,-0.01912248189260707,1.8818933840762195|-2.0764938119652516,0.032789766296653644,2.1092835782619055|-2.1688444307687265,-0.020489210333011716,2.1893336411017383|-2.151959987691854,0.03155971070028946,2.183519698392143|-2.0367639889226687,-0.02159626036973948,2.058360249292408|-1.833087590030402,0.03056336566723447,1.8636509556976364|-1.549778831027362,-0.022492970899488977,1.572271801926851|-1.1948009479246258,0.029756326190459925,1.2245572741150856|-0.7753208531321633,-0.023219306428586065,0.7985401595607493|-0.29778876781894703,0.02910262421427255,0.3268913920332196|0.23199010896294758,-0.023807638207154695,0.2557977471701023|0.6087910980666528,0.02857312561356079,0.6373642236802135|0.8479119882599875,-0.02428418694779528,0.8721961752077828|0.9631207894339887,0.028144231746984265,0.9912650211809729|0.9668087104905898,-0.02467019142771415,0.9914789019183039|0.8701278394415308,0.02779682771505728,0.8979246671565881|0.6831150554973777,-0.024982855056448434,0.7080979105538262|0.4148035499476399,0.027515430449196424,0.4423189803968363|0.07332319495287587,-0.025236112595723212,0.09855930754859908|-0.33400912454241183,0.027287498663849122,0.36129662320626094|-0.6006082120881707,-0.025441251202535785,0.6260494632907065|-0.7405473908793537,0.027102873917717804,0.7676502647970715|-0.7664926517914185,-0.025607413474053972,0.7921000652654724|-0.6898433866122766,0.026953327873351432,0.7167967144856281|-0.520859047951049,-0.025742004913983707,0.5466010528650327|-0.26877314315594414,0.026832195577414675,0.2956053387333588|0.05810417115965022,-0.025851023980326786,0.08395519513997701|0.25229375404368515,0.026734078417705906,0.27902783246139107|0.3270643786393166,-0.025939329424064676,0.35300370806338127|0.29435794077538485,0.026654603518341806,0.32101254429372666\"\n",
              "            frameborder=\"0\"\n",
              "            allowfullscreen\n",
              "        ></iframe>\n",
              "        "
            ],
            "text/plain": [
              "<IPython.lib.display.IFrame at 0x7fc715072fd0>"
            ]
          },
          "metadata": {
            "tags": []
          },
          "execution_count": 82
        }
      ]
    }
  ]
}