{
  "nbformat": 4,
  "nbformat_minor": 0,
  "metadata": {
    "colab": {
      "name": "iLearnML_tests.ipynb",
      "provenance": [],
      "collapsed_sections": [],
      "authorship_tag": "ABX9TyPZ6U26NCAmjLjmgIU3eUfA",
      "include_colab_link": true
    },
    "kernelspec": {
      "name": "python3",
      "display_name": "Python 3"
    },
    "language_info": {
      "name": "python"
    }
  },
  "cells": [
    {
      "cell_type": "markdown",
      "metadata": {
        "id": "view-in-github",
        "colab_type": "text"
      },
      "source": [
        "<a href=\"https://colab.research.google.com/github/nadavru/iLearn/blob/iLearnML-tests/iLearnML_tests.ipynb\" target=\"_parent\"><img src=\"https://colab.research.google.com/assets/colab-badge.svg\" alt=\"Open In Colab\"/></a>"
      ]
    },
    {
      "cell_type": "code",
      "metadata": {
        "colab": {
          "base_uri": "https://localhost:8080/"
        },
        "id": "LJxslI9LRUIt",
        "outputId": "fc945047-1898-4e27-d482-0a4adfa73ab5"
      },
      "source": [
        "!pip install selenium\n",
        "from selenium import webdriver\n",
        "from PIL import Image\n",
        "import io\n",
        "from selenium.webdriver import ActionChains\n",
        "from bs4 import BeautifulSoup"
      ],
      "execution_count": null,
      "outputs": [
        {
          "output_type": "stream",
          "text": [
            "Collecting selenium\n",
            "\u001b[?25l  Downloading https://files.pythonhosted.org/packages/80/d6/4294f0b4bce4de0abf13e17190289f9d0613b0a44e5dd6a7f5ca98459853/selenium-3.141.0-py2.py3-none-any.whl (904kB)\n",
            "\r\u001b[K     |▍                               | 10kB 13.9MB/s eta 0:00:01\r\u001b[K     |▊                               | 20kB 18.8MB/s eta 0:00:01\r\u001b[K     |█                               | 30kB 22.5MB/s eta 0:00:01\r\u001b[K     |█▌                              | 40kB 24.3MB/s eta 0:00:01\r\u001b[K     |█▉                              | 51kB 26.5MB/s eta 0:00:01\r\u001b[K     |██▏                             | 61kB 27.0MB/s eta 0:00:01\r\u001b[K     |██▌                             | 71kB 24.8MB/s eta 0:00:01\r\u001b[K     |███                             | 81kB 24.0MB/s eta 0:00:01\r\u001b[K     |███▎                            | 92kB 24.2MB/s eta 0:00:01\r\u001b[K     |███▋                            | 102kB 24.7MB/s eta 0:00:01\r\u001b[K     |████                            | 112kB 24.7MB/s eta 0:00:01\r\u001b[K     |████▍                           | 122kB 24.7MB/s eta 0:00:01\r\u001b[K     |████▊                           | 133kB 24.7MB/s eta 0:00:01\r\u001b[K     |█████                           | 143kB 24.7MB/s eta 0:00:01\r\u001b[K     |█████▍                          | 153kB 24.7MB/s eta 0:00:01\r\u001b[K     |█████▉                          | 163kB 24.7MB/s eta 0:00:01\r\u001b[K     |██████▏                         | 174kB 24.7MB/s eta 0:00:01\r\u001b[K     |██████▌                         | 184kB 24.7MB/s eta 0:00:01\r\u001b[K     |██████▉                         | 194kB 24.7MB/s eta 0:00:01\r\u001b[K     |███████▎                        | 204kB 24.7MB/s eta 0:00:01\r\u001b[K     |███████▋                        | 215kB 24.7MB/s eta 0:00:01\r\u001b[K     |████████                        | 225kB 24.7MB/s eta 0:00:01\r\u001b[K     |████████▎                       | 235kB 24.7MB/s eta 0:00:01\r\u001b[K     |████████▊                       | 245kB 24.7MB/s eta 0:00:01\r\u001b[K     |█████████                       | 256kB 24.7MB/s eta 0:00:01\r\u001b[K     |█████████▍                      | 266kB 24.7MB/s eta 0:00:01\r\u001b[K     |█████████▉                      | 276kB 24.7MB/s eta 0:00:01\r\u001b[K     |██████████▏                     | 286kB 24.7MB/s eta 0:00:01\r\u001b[K     |██████████▌                     | 296kB 24.7MB/s eta 0:00:01\r\u001b[K     |██████████▉                     | 307kB 24.7MB/s eta 0:00:01\r\u001b[K     |███████████▎                    | 317kB 24.7MB/s eta 0:00:01\r\u001b[K     |███████████▋                    | 327kB 24.7MB/s eta 0:00:01\r\u001b[K     |████████████                    | 337kB 24.7MB/s eta 0:00:01\r\u001b[K     |████████████▎                   | 348kB 24.7MB/s eta 0:00:01\r\u001b[K     |████████████▊                   | 358kB 24.7MB/s eta 0:00:01\r\u001b[K     |█████████████                   | 368kB 24.7MB/s eta 0:00:01\r\u001b[K     |█████████████▍                  | 378kB 24.7MB/s eta 0:00:01\r\u001b[K     |█████████████▊                  | 389kB 24.7MB/s eta 0:00:01\r\u001b[K     |██████████████▏                 | 399kB 24.7MB/s eta 0:00:01\r\u001b[K     |██████████████▌                 | 409kB 24.7MB/s eta 0:00:01\r\u001b[K     |██████████████▉                 | 419kB 24.7MB/s eta 0:00:01\r\u001b[K     |███████████████▏                | 430kB 24.7MB/s eta 0:00:01\r\u001b[K     |███████████████▋                | 440kB 24.7MB/s eta 0:00:01\r\u001b[K     |████████████████                | 450kB 24.7MB/s eta 0:00:01\r\u001b[K     |████████████████▎               | 460kB 24.7MB/s eta 0:00:01\r\u001b[K     |████████████████▋               | 471kB 24.7MB/s eta 0:00:01\r\u001b[K     |█████████████████               | 481kB 24.7MB/s eta 0:00:01\r\u001b[K     |█████████████████▍              | 491kB 24.7MB/s eta 0:00:01\r\u001b[K     |█████████████████▊              | 501kB 24.7MB/s eta 0:00:01\r\u001b[K     |██████████████████▏             | 512kB 24.7MB/s eta 0:00:01\r\u001b[K     |██████████████████▌             | 522kB 24.7MB/s eta 0:00:01\r\u001b[K     |██████████████████▉             | 532kB 24.7MB/s eta 0:00:01\r\u001b[K     |███████████████████▏            | 542kB 24.7MB/s eta 0:00:01\r\u001b[K     |███████████████████▋            | 552kB 24.7MB/s eta 0:00:01\r\u001b[K     |████████████████████            | 563kB 24.7MB/s eta 0:00:01\r\u001b[K     |████████████████████▎           | 573kB 24.7MB/s eta 0:00:01\r\u001b[K     |████████████████████▋           | 583kB 24.7MB/s eta 0:00:01\r\u001b[K     |█████████████████████           | 593kB 24.7MB/s eta 0:00:01\r\u001b[K     |█████████████████████▍          | 604kB 24.7MB/s eta 0:00:01\r\u001b[K     |█████████████████████▊          | 614kB 24.7MB/s eta 0:00:01\r\u001b[K     |██████████████████████          | 624kB 24.7MB/s eta 0:00:01\r\u001b[K     |██████████████████████▌         | 634kB 24.7MB/s eta 0:00:01\r\u001b[K     |██████████████████████▉         | 645kB 24.7MB/s eta 0:00:01\r\u001b[K     |███████████████████████▏        | 655kB 24.7MB/s eta 0:00:01\r\u001b[K     |███████████████████████▌        | 665kB 24.7MB/s eta 0:00:01\r\u001b[K     |████████████████████████        | 675kB 24.7MB/s eta 0:00:01\r\u001b[K     |████████████████████████▎       | 686kB 24.7MB/s eta 0:00:01\r\u001b[K     |████████████████████████▋       | 696kB 24.7MB/s eta 0:00:01\r\u001b[K     |█████████████████████████       | 706kB 24.7MB/s eta 0:00:01\r\u001b[K     |█████████████████████████▍      | 716kB 24.7MB/s eta 0:00:01\r\u001b[K     |█████████████████████████▊      | 727kB 24.7MB/s eta 0:00:01\r\u001b[K     |██████████████████████████      | 737kB 24.7MB/s eta 0:00:01\r\u001b[K     |██████████████████████████▍     | 747kB 24.7MB/s eta 0:00:01\r\u001b[K     |██████████████████████████▉     | 757kB 24.7MB/s eta 0:00:01\r\u001b[K     |███████████████████████████▏    | 768kB 24.7MB/s eta 0:00:01\r\u001b[K     |███████████████████████████▌    | 778kB 24.7MB/s eta 0:00:01\r\u001b[K     |████████████████████████████    | 788kB 24.7MB/s eta 0:00:01\r\u001b[K     |████████████████████████████▎   | 798kB 24.7MB/s eta 0:00:01\r\u001b[K     |████████████████████████████▋   | 808kB 24.7MB/s eta 0:00:01\r\u001b[K     |█████████████████████████████   | 819kB 24.7MB/s eta 0:00:01\r\u001b[K     |█████████████████████████████▍  | 829kB 24.7MB/s eta 0:00:01\r\u001b[K     |█████████████████████████████▊  | 839kB 24.7MB/s eta 0:00:01\r\u001b[K     |██████████████████████████████  | 849kB 24.7MB/s eta 0:00:01\r\u001b[K     |██████████████████████████████▍ | 860kB 24.7MB/s eta 0:00:01\r\u001b[K     |██████████████████████████████▉ | 870kB 24.7MB/s eta 0:00:01\r\u001b[K     |███████████████████████████████▏| 880kB 24.7MB/s eta 0:00:01\r\u001b[K     |███████████████████████████████▌| 890kB 24.7MB/s eta 0:00:01\r\u001b[K     |███████████████████████████████▉| 901kB 24.7MB/s eta 0:00:01\r\u001b[K     |████████████████████████████████| 911kB 24.7MB/s \n",
            "\u001b[?25hRequirement already satisfied: urllib3 in /usr/local/lib/python3.7/dist-packages (from selenium) (1.24.3)\n",
            "Installing collected packages: selenium\n",
            "Successfully installed selenium-3.141.0\n"
          ],
          "name": "stdout"
        }
      ]
    },
    {
      "cell_type": "markdown",
      "metadata": {
        "id": "rnW1Cy1kWyZj"
      },
      "source": [
        "install chromedriver  and update the chromedriver path"
      ]
    },
    {
      "cell_type": "code",
      "metadata": {
        "colab": {
          "base_uri": "https://localhost:8080/",
          "height": 248
        },
        "id": "dA7kjjq1Rkz6",
        "outputId": "27d76511-99ea-4985-8a4f-f8ae3351f854"
      },
      "source": [
        "# !pip install chromedriver\n",
        "wd = webdriver.Chrome(\"chromedriver path\"+\"chromedriver.exe\")"
      ],
      "execution_count": 9,
      "outputs": [
        {
          "output_type": "stream",
          "text": [
            "Requirement already satisfied: chromedriver in /usr/local/lib/python3.7/dist-packages (2.24.1)\n"
          ],
          "name": "stdout"
        },
        {
          "output_type": "error",
          "ename": "NameError",
          "evalue": "ignored",
          "traceback": [
            "\u001b[0;31m---------------------------------------------------------------------------\u001b[0m",
            "\u001b[0;31mNameError\u001b[0m                                 Traceback (most recent call last)",
            "\u001b[0;32m<ipython-input-9-dc782b1f1471>\u001b[0m in \u001b[0;36m<module>\u001b[0;34m()\u001b[0m\n\u001b[1;32m      1\u001b[0m \u001b[0mget_ipython\u001b[0m\u001b[0;34m(\u001b[0m\u001b[0;34m)\u001b[0m\u001b[0;34m.\u001b[0m\u001b[0msystem\u001b[0m\u001b[0;34m(\u001b[0m\u001b[0;34m'pip install chromedriver'\u001b[0m\u001b[0;34m)\u001b[0m\u001b[0;34m\u001b[0m\u001b[0;34m\u001b[0m\u001b[0m\n\u001b[1;32m      2\u001b[0m \u001b[0;32mimport\u001b[0m \u001b[0mos\u001b[0m\u001b[0;34m\u001b[0m\u001b[0;34m\u001b[0m\u001b[0m\n\u001b[0;32m----> 3\u001b[0;31m \u001b[0;32mif\u001b[0m \u001b[0;32mnot\u001b[0m \u001b[0mos\u001b[0m\u001b[0;34m.\u001b[0m\u001b[0mpath\u001b[0m\u001b[0;34m.\u001b[0m\u001b[0misfile\u001b[0m\u001b[0;34m(\u001b[0m\u001b[0mCHROMEDRV_PATH\u001b[0m\u001b[0;34m)\u001b[0m\u001b[0;34m:\u001b[0m\u001b[0;34m\u001b[0m\u001b[0;34m\u001b[0m\u001b[0m\n\u001b[0m\u001b[1;32m      4\u001b[0m   \u001b[0;32mraise\u001b[0m \u001b[0mRuntimeError\u001b[0m\u001b[0;34m(\u001b[0m\u001b[0;34m'This package supports only Linux, MacOSX or Windows platforms'\u001b[0m\u001b[0;34m)\u001b[0m\u001b[0;34m\u001b[0m\u001b[0;34m\u001b[0m\u001b[0m\n\u001b[1;32m      5\u001b[0m \u001b[0mwd\u001b[0m \u001b[0;34m=\u001b[0m \u001b[0mwebdriver\u001b[0m\u001b[0;34m.\u001b[0m\u001b[0mChrome\u001b[0m\u001b[0;34m(\u001b[0m\u001b[0;34m)\u001b[0m\u001b[0;34m\u001b[0m\u001b[0;34m\u001b[0m\u001b[0m\n",
            "\u001b[0;31mNameError\u001b[0m: name 'CHROMEDRV_PATH' is not defined"
          ]
        }
      ]
    },
    {
      "cell_type": "code",
      "metadata": {
        "id": "n-XzcighRuah"
      },
      "source": [
        "wd.get('https://i-learn-ml.oa.r.appspot.com/iLearnML/index.html')"
      ],
      "execution_count": null,
      "outputs": []
    },
    {
      "cell_type": "code",
      "metadata": {
        "id": "jDgelrA7RvPn"
      },
      "source": [
        "html = wd.page_source"
      ],
      "execution_count": null,
      "outputs": []
    },
    {
      "cell_type": "code",
      "metadata": {
        "id": "RpH21tE_RyfY"
      },
      "source": [
        "soup = BeautifulSoup(html, 'html.parser')"
      ],
      "execution_count": null,
      "outputs": []
    },
    {
      "cell_type": "code",
      "metadata": {
        "id": "mokV3kiHRzU1"
      },
      "source": [
        "owl_items = soup.find_all(\"div\",{\"class\":\"owl-item active\"})\n",
        "owl_items"
      ],
      "execution_count": null,
      "outputs": []
    },
    {
      "cell_type": "code",
      "metadata": {
        "id": "o-uV2LycR1fG"
      },
      "source": [
        "for owl_item in owl_items:\n",
        "    link = owl_item.find(\"a\")\n",
        "    if not link['href'].endswith('html'):\n",
        "        print (owl_item.find('h5').get_text(),'error in link:',link['href'])"
      ],
      "execution_count": null,
      "outputs": []
    }
  ]
}