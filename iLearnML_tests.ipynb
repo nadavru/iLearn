{
  "nbformat": 4,
  "nbformat_minor": 0,
  "metadata": {
    "colab": {
      "name": "iLearnML_tests.ipynb",
      "provenance": [],
      "collapsed_sections": [],
      "authorship_tag": "ABX9TyPZ6U26NCAmjLjmgIU3eUfA",
      "include_colab_link": true
    },
    "kernelspec": {
      "name": "python3",
      "display_name": "Python 3"
    },
    "language_info": {
      "name": "python"
    }
  },
  "cells": [
    {
      "cell_type": "markdown",
      "metadata": {
        "id": "view-in-github",
        "colab_type": "text"
      },
      "source": [
        "<a href=\"https://colab.research.google.com/github/nadavru/iLearn/blob/iLearnML-tests/iLearnML_tests.ipynb\" target=\"_parent\"><img src=\"https://colab.research.google.com/assets/colab-badge.svg\" alt=\"Open In Colab\"/></a>"
      ]
    },
    {
      "cell_type": "code",
      "metadata": {
        "id": "LJxslI9LRUIt"
      },
      "source": [
        "!pip install selenium\n",
        "from selenium import webdriver\n",
        "from PIL import Image\n",
        "import io\n",
        "from selenium.webdriver import ActionChains\n",
        "from bs4 import BeautifulSoup"
      ],
      "execution_count": null,
      "outputs": []
    },
    {
      "cell_type": "markdown",
      "metadata": {
        "id": "rnW1Cy1kWyZj"
      },
      "source": [
        "install chromedriver  and update the chromedriver path"
      ]
    },
    {
      "cell_type": "code",
      "metadata": {
        "id": "dA7kjjq1Rkz6"
      },
      "source": [
        "# !pip install chromedriver\n",
        "wd = webdriver.Chrome(\"chromedriver path\"+\"chromedriver.exe\")"
      ],
      "execution_count": null,
      "outputs": []
    },
    {
      "cell_type": "code",
      "metadata": {
        "id": "n-XzcighRuah"
      },
      "source": [
        "wd.get('https://i-learn-ml.oa.r.appspot.com/iLearnML/index.html')"
      ],
      "execution_count": null,
      "outputs": []
    },
    {
      "cell_type": "code",
      "metadata": {
        "id": "jDgelrA7RvPn"
      },
      "source": [
        "html = wd.page_source"
      ],
      "execution_count": null,
      "outputs": []
    },
    {
      "cell_type": "code",
      "metadata": {
        "id": "RpH21tE_RyfY"
      },
      "source": [
        "soup = BeautifulSoup(html, 'html.parser')"
      ],
      "execution_count": null,
      "outputs": []
    },
    {
      "cell_type": "code",
      "metadata": {
        "id": "mokV3kiHRzU1"
      },
      "source": [
        "owl_items = soup.find_all(\"div\",{\"class\":\"owl-item active\"})\n",
        "owl_items"
      ],
      "execution_count": null,
      "outputs": []
    },
    {
      "cell_type": "code",
      "metadata": {
        "id": "o-uV2LycR1fG"
      },
      "source": [
        "for owl_item in owl_items:\n",
        "    link = owl_item.find(\"a\")\n",
        "    if not link['href'].endswith('html'):\n",
        "        print (owl_item.find('h5').get_text(),'error in link:',link['href'])"
      ],
      "execution_count": null,
      "outputs": []
    }
  ]
}