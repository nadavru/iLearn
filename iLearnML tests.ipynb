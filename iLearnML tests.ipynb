{
 "cells": [
  {
   "cell_type": "code",
   "execution_count": 16,
   "metadata": {},
   "outputs": [],
   "source": [
    "from selenium import webdriver\n",
    "from PIL import Image\n",
    "import io\n",
    "from selenium.webdriver import ActionChains\n",
    "from bs4 import BeautifulSoup"
   ]
  },
  {
   "cell_type": "code",
   "execution_count": 17,
   "metadata": {},
   "outputs": [],
   "source": [
    "wd = webdriver.Chrome(\"C:/Users/97254/chromedriver_win32/\"+\"chromedriver.exe\")"
   ]
  },
  {
   "cell_type": "code",
   "execution_count": 18,
   "metadata": {},
   "outputs": [],
   "source": [
    "wd.get('https://i-learn-ml.oa.r.appspot.com/iLearnML/index.html')"
   ]
  },
  {
   "cell_type": "code",
   "execution_count": 19,
   "metadata": {},
   "outputs": [],
   "source": [
    "html = wd.page_source"
   ]
  },
  {
   "cell_type": "code",
   "execution_count": 20,
   "metadata": {},
   "outputs": [],
   "source": [
    "#import codecs\n",
    "#html_file = codecs.open(u's\\x.html','w',encoding='utf-8')\n",
    "#html_file.write(html)\n",
    "#html_file.close()"
   ]
  },
  {
   "cell_type": "code",
   "execution_count": 21,
   "metadata": {},
   "outputs": [],
   "source": [
    "soup = BeautifulSoup(html, 'html.parser')"
   ]
  },
  {
   "cell_type": "code",
   "execution_count": 22,
   "metadata": {},
   "outputs": [
    {
     "data": {
      "text/plain": [
       "[<div class=\"owl-item active\" style=\"width: 345px; margin-right: 30px;\"><a href=\"gd.html\">\n",
       " <div class=\"item service-item\">\n",
       " <div class=\"icon\">\n",
       " <i><img alt=\"\" src=\"assets/images/gd_small.png\"/></i>\n",
       " </div>\n",
       " <h5 class=\"service-title\">Gradient Decent</h5>\n",
       " <p>Our grdient decent notebook would help you learn the basics about this algorithm</p>\n",
       " <div class=\"main-button\">The Notebook</div>\n",
       " </div>\n",
       " </a></div>,\n",
       " <div class=\"owl-item active\" style=\"width: 345px; margin-right: 30px;\"><a href=\"#\">\n",
       " <div class=\"item service-item\">\n",
       " <div class=\"icon\">\n",
       " <i><img alt=\"\" src=\"assets/images/svm_small.png\"/></i>\n",
       " </div>\n",
       " <h5 class=\"service-title\">SVM</h5>\n",
       " <p>Our SVM notebook would help you learn the basics about this learning algorithm</p>\n",
       " <div class=\"main-button\">The Notebook</div>\n",
       " </div>\n",
       " </a></div>]"
      ]
     },
     "execution_count": 22,
     "metadata": {},
     "output_type": "execute_result"
    }
   ],
   "source": [
    "owl_items = soup.find_all(\"div\",{\"class\":\"owl-item active\"})\n",
    "owl_items"
   ]
  },
  {
   "cell_type": "code",
   "execution_count": 23,
   "metadata": {},
   "outputs": [
    {
     "name": "stdout",
     "output_type": "stream",
     "text": [
      "SVM error in link: #\n"
     ]
    }
   ],
   "source": [
    "for owl_item in owl_items:\n",
    "    link = owl_item.find(\"a\")\n",
    "    if not link['href'].endswith('html'):\n",
    "        print (owl_item.find('h5').get_text(),'error in link:',link['href'])"
   ]
  },
  {
   "cell_type": "code",
   "execution_count": null,
   "metadata": {},
   "outputs": [],
   "source": []
  }
 ],
 "metadata": {
  "kernelspec": {
   "display_name": "Python 3",
   "language": "python",
   "name": "python3"
  },
  "language_info": {
   "codemirror_mode": {
    "name": "ipython",
    "version": 3
   },
   "file_extension": ".py",
   "mimetype": "text/x-python",
   "name": "python",
   "nbconvert_exporter": "python",
   "pygments_lexer": "ipython3",
   "version": "3.7.3"
  }
 },
 "nbformat": 4,
 "nbformat_minor": 4
}
