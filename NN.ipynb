{
  "nbformat": 4,
  "nbformat_minor": 0,
  "metadata": {
    "colab": {
      "name": "NN.ipynb",
      "provenance": [],
      "collapsed_sections": [],
      "toc_visible": true,
      "authorship_tag": "ABX9TyN+jct5n7W5ROR5XXtVvIKN",
      "include_colab_link": true
    },
    "kernelspec": {
      "name": "python3",
      "display_name": "Python 3"
    },
    "language_info": {
      "name": "python"
    }
  },
  "cells": [
    {
      "cell_type": "markdown",
      "metadata": {
        "id": "view-in-github",
        "colab_type": "text"
      },
      "source": [
        "<a href=\"https://colab.research.google.com/github/nadavru/iLearn/blob/iLearnML/NN.ipynb\" target=\"_parent\"><img src=\"https://colab.research.google.com/assets/colab-badge.svg\" alt=\"Open In Colab\"/></a>"
      ]
    },
    {
      "cell_type": "markdown",
      "metadata": {
        "id": "hgHUuxuu4P56"
      },
      "source": [
        "\n",
        "# Imports and Base Classes"
      ]
    },
    {
      "cell_type": "code",
      "metadata": {
        "id": "8JlU0YXitfj6"
      },
      "source": [
        "\n",
        "import numpy as np\n",
        "from abc import abstractmethod\n",
        "import math"
      ],
      "execution_count": 9,
      "outputs": []
    },
    {
      "cell_type": "code",
      "metadata": {
        "id": "YLJckkg_wVyN"
      },
      "source": [
        "class Module():\n",
        "\n",
        "    @abstractmethod\n",
        "    def forward(self, x):\n",
        "        pass\n",
        "    \n",
        "    @abstractmethod\n",
        "    def backward(self, loss):\n",
        "        pass\n",
        "        \n",
        "    @abstractmethod\n",
        "    def train(sel):\n",
        "        pass\n",
        "    \n",
        "class Loss():\n",
        "\n",
        "    @abstractmethod\n",
        "    def forward(self, x, y):\n",
        "        pass\n",
        "    \n",
        "    @abstractmethod\n",
        "    def backward(self):\n",
        "        pass"
      ],
      "execution_count": 10,
      "outputs": []
    },
    {
      "cell_type": "markdown",
      "metadata": {
        "id": "otWoJoOD4cFI"
      },
      "source": [
        "# NN Blocks and Loss"
      ]
    },
    {
      "cell_type": "code",
      "metadata": {
        "id": "i9sgQI4Hwm-W"
      },
      "source": [
        "class Tanh(Module):\n",
        "\n",
        "    def forward(self, x: np.array):\n",
        "        self.temp = (np.exp(x) + np.exp(-x))\n",
        "        return (np.exp(x) - np.exp(-x)) / (np.exp(x) + np.exp(-x))\n",
        "    \n",
        "    def backward(self, loss: np.array):\n",
        "        return 4*loss/np.square(self.temp)\n",
        "    \n",
        "    def train(self):\n",
        "        pass\n",
        "\n",
        "class ReLU(Module):\n",
        "\n",
        "    def forward(self, x: np.array):\n",
        "        self.tmp = (x>0)\n",
        "        return x * self.tmp\n",
        "    \n",
        "    def backward(self, loss: np.array):\n",
        "        return self.tmp * loss\n",
        "    \n",
        "    def train(self):\n",
        "        pass\n",
        "\n",
        "class Sigmoid(Module):\n",
        "\n",
        "    def forward(self, x: np.array):\n",
        "        self.tmp = np.exp(x)\n",
        "        return self.tmp /(self.tmp + 1)\n",
        "    \n",
        "    def backward(self, loss: np.array):\n",
        "        return self.tmp / np.square(self.tmp + 1) * loss\n",
        "    \n",
        "    def train(self):\n",
        "        pass\n",
        "\n",
        "class Linear(Module):\n",
        "\n",
        "    def __init__(self, in_dim: int, out_dim: int, lr: float = 0.01) -> None:\n",
        "        self.weights = np.random.rand(in_dim, out_dim)\n",
        "        self.biases = np.random.rand(1, out_dim)\n",
        "        self.lr = lr\n",
        "\n",
        "    def forward(self, x: np.array):\n",
        "        self.x = x.copy()\n",
        "        return x @ self.weights + self.biases\n",
        "    \n",
        "    def backward(self, loss: np.array):\n",
        "        self.grad_w = self.x.transpose() @ loss\n",
        "        self.grad_b = np.sum(loss, axis=0, keepdims=True)\n",
        "        return loss @ self.weights.transpose()\n",
        "        \n",
        "    def train(self):\n",
        "        self.weights -= self.lr*self.grad_w\n",
        "        self.biases -= self.lr*self.grad_b\n",
        "\n",
        "class Sequential(Module):\n",
        "\n",
        "    def __init__(self, hidden_dims: list, activation, lr: float) -> None:\n",
        "        layers = []\n",
        "        input_dim = 2\n",
        "        for dim in hidden_dims:\n",
        "            layers.append(Linear(input_dim, dim, lr))\n",
        "            if activation is not None:\n",
        "                layers.append(activation())\n",
        "            input_dim = dim\n",
        "        layers.append(Linear(input_dim, 1, lr))\n",
        "        self.layers = layers\n",
        "    \n",
        "    def forward(self, x: np.array):\n",
        "        input = x\n",
        "        for layer in self.layers:\n",
        "            input = layer.forward(input)\n",
        "        return input\n",
        "    \n",
        "    def backward(self, loss: np.array):\n",
        "        input = loss\n",
        "        for layer in reversed(self.layers):\n",
        "            input = layer.backward(input)\n",
        "        return input\n",
        "        \n",
        "    def train(self):\n",
        "        for layer in self.layers:\n",
        "            layer.train()"
      ],
      "execution_count": 11,
      "outputs": []
    },
    {
      "cell_type": "code",
      "metadata": {
        "id": "giC3HpYp1hg5"
      },
      "source": [
        "class MSELoss(Loss):\n",
        "\n",
        "    def forward(self, x: np.array, y: np.array):\n",
        "        self.x = x.copy()\n",
        "        self.y = y.copy()\n",
        "        return np.mean(np.square(x-y), axis=0)[0]\n",
        "    \n",
        "    def backward(self):\n",
        "        return 2 * (self.x-self.y) / self.x.shape[0]"
      ],
      "execution_count": 12,
      "outputs": []
    },
    {
      "cell_type": "markdown",
      "metadata": {
        "id": "HZrjfZWN4vqL"
      },
      "source": [
        "# Function Calculation"
      ]
    },
    {
      "cell_type": "code",
      "metadata": {
        "id": "xwQrJTVrwz7b"
      },
      "source": [
        "'''def f(x: np.array, y: np.array):\n",
        "\n",
        "    return (x * np.exp(-(x**2+y**2))).reshape((-1,1))'''\n",
        "\n",
        "class Function():\n",
        "\n",
        "    def __init__(self, string) -> None:\n",
        "        if len([letter for letter in string.replace(\"pi\",\"\").replace(\"e\",\"\").replace(\"x\",\"\").replace(\"y\",\"\").replace(\"r\",\"\") if letter.isalpha()]):\n",
        "            print(\"Abort.\")\n",
        "            exit()\n",
        "        self.string = string.replace(\"^\",\"**\").replace(\"e\",\"math.e\").replace(\"pi\",\"math.pi\")\n",
        "\n",
        "    \n",
        "    def forward(self, x: np.array, y: np.array):\n",
        "        if self.string.find(\"r\")!=-1:\n",
        "            r = lambda x: x * (x > 0)\n",
        "        return eval(self.string).reshape((-1,1))"
      ],
      "execution_count": 13,
      "outputs": []
    },
    {
      "cell_type": "markdown",
      "metadata": {
        "id": "xo2d6w8M45o1"
      },
      "source": [
        "# NN building and training"
      ]
    },
    {
      "cell_type": "code",
      "metadata": {
        "id": "gMSTzMNpp2bR"
      },
      "source": [
        "class NN():\n",
        "\n",
        "    def __init__(self, hidden_dims: list, activation, lr: float, f_string: str, epochs: int, batch_size: int) -> None:\n",
        "        self.model = Sequential(hidden_dims, activation, lr)\n",
        "        self.criterion = MSELoss()\n",
        "        self.F = Function(f_string)\n",
        "        X = np.arange(-2, 2, 0.2)\n",
        "        Y = np.arange(-2, 2, 0.2)\n",
        "        X, Y = np.meshgrid(X, Y)\n",
        "        self.grid_points = np.concatenate((X.reshape((-1,1)), Y.reshape((-1,1))), axis=-1)\n",
        "        self.batch = np.random.rand(batch_size, 2) * 4 - 2\n",
        "        self.epochs = epochs\n",
        "        url = \"https://i-learn-ml.oa.r.appspot.com/viewer/viewerGD.html#\"\n",
        "        self.disp_url = url+f\"xmax=2.1&xmin=-2.1&ymax=2.1&ymin=-2.1&func={f_string}&points=\"\n",
        "    \n",
        "    def add_points(self):\n",
        "        predict = self.model.forward(self.grid_points)\n",
        "        predict = (predict*1000).astype(int)/1000\n",
        "        for i in range(predict.shape[0]):\n",
        "            self.disp_url += f\"({self.grid_points[i,0]},{self.grid_points[i,1]},{predict[i,0]})\"\n",
        "    \n",
        "    def train(self):\n",
        "        self.add_points()\n",
        "        for _ in range(self.epochs):\n",
        "            predict = self.model.forward(self.batch)\n",
        "            loss = self.criterion.forward(predict, self.F.forward(self.batch[:,0], self.batch[:,1]))\n",
        "            self.model.backward(self.criterion.backward())\n",
        "            self.model.train()\n",
        "            self.disp_url += \"|\"\n",
        "            self.add_points()\n",
        "        return self.disp_url"
      ],
      "execution_count": 22,
      "outputs": []
    },
    {
      "cell_type": "code",
      "metadata": {
        "colab": {
          "base_uri": "https://localhost:8080/"
        },
        "id": "giWksDPsykpG",
        "outputId": "54193e7e-abdc-45fa-a90e-b3f8b1bf9184"
      },
      "source": [
        "nn = NN([3,5], ReLU, 0.05, \"x*e*pi^(-x^2-y^2)\", 50, 100)\n",
        "src = nn.train()\n",
        "print(len(src))"
      ],
      "execution_count": 25,
      "outputs": [
        {
          "output_type": "stream",
          "text": [
            "876492\n"
          ],
          "name": "stdout"
        }
      ]
    },
    {
      "cell_type": "code",
      "metadata": {
        "colab": {
          "base_uri": "https://localhost:8080/",
          "height": 88
        },
        "id": "2S0HqKMx05ph",
        "outputId": "0f021511-edbb-44ed-f765-5b131e25f095"
      },
      "source": [
        "'''nn = Sequential([3,5], ReLU, 0.05)\n",
        "criterion = MSELoss()\n",
        "# F = Calc(\"x*e*pi^(-x^2-y^2)\")\n",
        "F = Function(\"r(y)\")\n",
        "max_grid = 2\n",
        "x = np.random.rand(100,2) * 2 * max_grid - max_grid\n",
        "loss = 1\n",
        "steps = 0\n",
        "while loss>0.002 and steps<150:\n",
        "    predict = nn.forward(x)\n",
        "    loss = criterion.forward(predict, F.forward(x[:,0], x[:,1]))\n",
        "    nn.backward(criterion.backward())\n",
        "    nn.train()\n",
        "    steps += 1\n",
        "print(f\"loss: {loss}\")\n",
        "print(f\"steps: {steps}\")\n",
        "print(nn.forward(np.array([[1,2],[2,10],[3,5],[7,-10],[21,33]])))'''"
      ],
      "execution_count": 26,
      "outputs": [
        {
          "output_type": "execute_result",
          "data": {
            "application/vnd.google.colaboratory.intrinsic+json": {
              "type": "string"
            },
            "text/plain": [
              "'nn = Sequential([3,5], ReLU, 0.05)\\ncriterion = MSELoss()\\n# F = Calc(\"x*e*pi^(-x^2-y^2)\")\\nF = Function(\"r(y)\")\\nmax_grid = 2\\nx = np.random.rand(100,2) * 2 * max_grid - max_grid\\nloss = 1\\nsteps = 0\\nwhile loss>0.002 and steps<150:\\n    predict = nn.forward(x)\\n    loss = criterion.forward(predict, F.forward(x[:,0], x[:,1]))\\n    nn.backward(criterion.backward())\\n    nn.train()\\n    steps += 1\\nprint(f\"loss: {loss}\")\\nprint(f\"steps: {steps}\")\\nprint(nn.forward(np.array([[1,2],[2,10],[3,5],[7,-10],[21,33]])))'"
            ]
          },
          "metadata": {
            "tags": []
          },
          "execution_count": 26
        }
      ]
    }
  ]
}